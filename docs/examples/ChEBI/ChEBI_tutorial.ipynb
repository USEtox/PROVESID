{
 "cells": [
  {
   "cell_type": "markdown",
   "id": "8476bcb4",
   "metadata": {},
   "source": [
    "# ChEBI (Chemical Entities of Biological Interest) Tutorial\n",
    "\n",
    "ChEBI is a freely available dictionary of molecular entities focused on 'small' chemical compounds. This tutorial demonstrates how to use the `ChEBI` class and convenience functions from the `provesid` package to access chemical information from the ChEBI database.\n",
    "\n",
    "**Important Note**: The ChEBI search API is currently experiencing intermittent issues. This tutorial shows both the intended search functionality and alternative approaches using direct ChEBI ID lookups when search is unavailable.\n",
    "\n",
    "ChEBI provides comprehensive chemical information including:\n",
    "- Chemical structures (SMILES, InChI, MOL)\n",
    "- Ontological relationships\n",
    "- Biological roles and activities\n",
    "- Cross-references to other databases\n",
    "- Detailed chemical properties\n",
    "\n",
    "The database is maintained by the European Bioinformatics Institute (EBI) and contains over 185,000 chemical entities."
   ]
  },
  {
   "cell_type": "code",
   "execution_count": 28,
   "id": "88748fb0",
   "metadata": {},
   "outputs": [
    {
     "name": "stdout",
     "output_type": "stream",
     "text": [
      "ChEBI initialized successfully!\n",
      "Base URL: https://www.ebi.ac.uk/webservices/chebi/2.0/test\n",
      "Timeout: 30 seconds\n"
     ]
    }
   ],
   "source": [
    "from provesid import ChEBI, ChEBIError, get_chebi_entity, search_chebi\n",
    "\n",
    "chebi = ChEBI()\n",
    "print(\"ChEBI initialized successfully!\")\n",
    "print(f\"Base URL: {chebi.base_url}\")\n",
    "print(f\"Timeout: {chebi.timeout} seconds\")"
   ]
  },
  {
   "cell_type": "markdown",
   "id": "91f43060",
   "metadata": {},
   "source": [
    "## 1. Getting Complete Entity Information\n",
    "\n",
    "The primary method for retrieving detailed chemical information is `get_complete_entity()`. Let's look up some common compounds:"
   ]
  },
  {
   "cell_type": "code",
   "execution_count": 29,
   "id": "77779161",
   "metadata": {},
   "outputs": [
    {
     "name": "stdout",
     "output_type": "stream",
     "text": [
      "Water (CHEBI:15377):\n",
      "  ASCII Name: water\n",
      "  IUPAC Name: None\n",
      "  Definition: An oxygen hydride consisting of an oxygen atom that is covalently bonded to two hydrogen atoms\n",
      "  Molecular Formula: H2O\n",
      "  SMILES: [H]O[H]\n",
      "  InChI: InChI=1S/H2O/h1H2\n",
      "  InChI Key: XLYOFNOQVPJJNP-UHFFFAOYSA-N\n",
      "  Mass: 18.01530\n",
      "  Charge: 0\n"
     ]
    }
   ],
   "source": [
    "# Get complete information for water (ChEBI:15377)\n",
    "water = chebi.get_complete_entity(15377)\n",
    "if water:\n",
    "    print(\"Water (CHEBI:15377):\")\n",
    "    print(f\"  ASCII Name: {water.get('chebiAsciiName')}\")\n",
    "    print(f\"  IUPAC Name: {water.get('iupacName')}\")\n",
    "    print(f\"  Definition: {water.get('definition')}\")\n",
    "    # Access chemical formula from the Formulae dict\n",
    "    formulae_data = water.get('Formulae', {})\n",
    "    formula = formulae_data.get('data', 'N/A') if formulae_data else 'N/A'\n",
    "    print(f\"  Molecular Formula: {formula}\")\n",
    "    print(f\"  SMILES: {water.get('smiles')}\")\n",
    "    print(f\"  InChI: {water.get('inchi')}\")\n",
    "    print(f\"  InChI Key: {water.get('inchiKey')}\")\n",
    "    print(f\"  Mass: {water.get('mass')}\")\n",
    "    print(f\"  Charge: {water.get('charge')}\")\n",
    "else:\n",
    "    print(\"Water information not found\")"
   ]
  },
  {
   "cell_type": "code",
   "execution_count": 30,
   "id": "c97a2882",
   "metadata": {},
   "outputs": [
    {
     "name": "stdout",
     "output_type": "stream",
     "text": [
      "Aspirin (CHEBI:15365):\n",
      "  ASCII Name: acetylsalicylic acid\n",
      "  Definition: A member of the class of benzoic acids that is salicylic acid in which the hydrogen that is attached to the phenolic hydroxy group has been replaced by an acetoxy group. A non-steroidal anti-inflammatory drug with cyclooxygenase inhibitor activity.\n",
      "  SMILES: CC(=O)Oc1ccccc1C(O)=O\n",
      "  InChI Key: BSYNRYMUTXBXSQ-UHFFFAOYSA-N\n",
      "  Mass: 180.15740\n",
      "  Number of synonyms: 18\n",
      "  First 3 synonyms: ['2-(ACETYLOXY)BENZOIC ACID', '2-Acetoxybenzenecarboxylic acid', '2-acetoxybenzoic acid']\n"
     ]
    }
   ],
   "source": [
    "# Get information for aspirin (ChEBI:15365)\n",
    "aspirin = chebi.get_complete_entity(15365)\n",
    "if aspirin:\n",
    "    print(\"Aspirin (CHEBI:15365):\")\n",
    "    print(f\"  ASCII Name: {aspirin.get('chebiAsciiName')}\")\n",
    "    print(f\"  Definition: {aspirin.get('definition')}\")\n",
    "    print(f\"  SMILES: {aspirin.get('smiles')}\")\n",
    "    print(f\"  InChI Key: {aspirin.get('inchiKey')}\")\n",
    "    print(f\"  Mass: {aspirin.get('mass')}\")\n",
    "    \n",
    "    # Show synonyms if available\n",
    "    synonyms = aspirin.get('Synonyms', [])\n",
    "    if synonyms:\n",
    "        print(f\"  Number of synonyms: {len(synonyms)}\")\n",
    "        print(f\"  First 3 synonyms: {[syn.get('data') for syn in synonyms[:3]]}\")\n",
    "else:\n",
    "    print(\"Aspirin information not found\")"
   ]
  },
  {
   "cell_type": "markdown",
   "id": "969db35f",
   "metadata": {},
   "source": [
    "## 2. Using Convenience Functions\n",
    "\n",
    "The package provides convenient functions for quick lookups without creating a ChEBI instance:"
   ]
  },
  {
   "cell_type": "code",
   "execution_count": 31,
   "id": "d398bdc7",
   "metadata": {},
   "outputs": [
    {
     "name": "stdout",
     "output_type": "stream",
     "text": [
      "Caffeine (using convenience function):\n",
      "  Name: caffeine\n",
      "  Definition: A trimethylxanthine in which the three methyl groups are located at positions 1, 3, and 7. A purine alkaloid that occurs naturally in tea and coffee.\n",
      "  SMILES: Cn1cnc2n(C)c(=O)n(C)c(=O)c12\n",
      "  Molecular formula: C8H10N4O2\n"
     ]
    }
   ],
   "source": [
    "# Using the convenience function get_chebi_entity\n",
    "caffeine = get_chebi_entity(27732)  # Caffeine\n",
    "if caffeine:\n",
    "    print(\"Caffeine (using convenience function):\")\n",
    "    print(f\"  Name: {caffeine.get('chebiAsciiName')}\")\n",
    "    print(f\"  Definition: {caffeine.get('definition')}\")\n",
    "    print(f\"  SMILES: {caffeine.get('smiles')}\")\n",
    "    # Access chemical formula correctly\n",
    "    formulae_data = caffeine.get('Formulae', {})\n",
    "    formula = formulae_data.get('data', 'N/A') if formulae_data else 'N/A'\n",
    "    print(f\"  Molecular formula: {formula}\")\n",
    "else:\n",
    "    print(\"Caffeine not found\")"
   ]
  },
  {
   "cell_type": "markdown",
   "id": "9d8bf8cf",
   "metadata": {},
   "source": [
    "## Important: Accessing Chemical Formula Data\n",
    "\n",
    "ChEBI returns chemical formula data in a specific structure. The formula is stored in the `Formulae` key (with capital F) as a dictionary with `data` and `source` fields. Here's the correct way to access it:"
   ]
  },
  {
   "cell_type": "code",
   "execution_count": 32,
   "id": "4c20a63e",
   "metadata": {},
   "outputs": [
    {
     "name": "stdout",
     "output_type": "stream",
     "text": [
      "Correct way to access chemical formula:\n",
      "  Compound: acetylsalicylic acid\n",
      "  Formula: C9H8O4 (source: KEGG COMPOUND)\n",
      "  Formula (one-liner): C9H8O4\n",
      "\n",
      "❌ WRONG way (this would cause errors):\n",
      "  # aspirin['formulae'][0]['data']  # Wrong - lowercase 'formulae' doesn't exist\n",
      "  # aspirin['Formulae']['data']     # Wrong - no error checking\n",
      "\n",
      "✅ CORRECT way:\n",
      "  formulae_data = aspirin.get('Formulae', {})\n",
      "  formula = formulae_data.get('data', 'N/A') if formulae_data else 'N/A'\n"
     ]
    }
   ],
   "source": [
    "# Demonstrate the correct way to access chemical formula data\n",
    "aspirin = get_chebi_entity(15365)  # Aspirin\n",
    "if aspirin:\n",
    "    print(\"Correct way to access chemical formula:\")\n",
    "    print(f\"  Compound: {aspirin.get('chebiAsciiName')}\")\n",
    "    \n",
    "    # Method 1: Safe access with get()\n",
    "    formulae_data = aspirin.get('Formulae', {})\n",
    "    if formulae_data:\n",
    "        formula = formulae_data.get('data', 'N/A')\n",
    "        source = formulae_data.get('source', 'N/A')\n",
    "        print(f\"  Formula: {formula} (source: {source})\")\n",
    "    else:\n",
    "        print(\"  Formula: Not available\")\n",
    "    \n",
    "    # Method 2: One-liner (also safe)\n",
    "    formula_oneliner = aspirin.get('Formulae', {}).get('data', 'N/A')\n",
    "    print(f\"  Formula (one-liner): {formula_oneliner}\")\n",
    "    \n",
    "    print()\n",
    "    print(\"❌ WRONG way (this would cause errors):\")\n",
    "    print(\"  # aspirin['formulae'][0]['data']  # Wrong - lowercase 'formulae' doesn't exist\")\n",
    "    print(\"  # aspirin['Formulae']['data']     # Wrong - no error checking\")\n",
    "    \n",
    "    print()\n",
    "    print(\"✅ CORRECT way:\")\n",
    "    print(\"  formulae_data = aspirin.get('Formulae', {})\")\n",
    "    print(\"  formula = formulae_data.get('data', 'N/A') if formulae_data else 'N/A'\")"
   ]
  },
  {
   "cell_type": "code",
   "execution_count": 33,
   "id": "a2c0a5cc",
   "metadata": {},
   "outputs": [
    {
     "name": "stdout",
     "output_type": "stream",
     "text": [
      "Searching for 'glucose':\n",
      "(Note: ChEBI search API is currently experiencing issues)\n",
      "  Search returned no results (API may be temporarily unavailable)\n",
      "  Alternative: Use get_chebi_entity() with known ChEBI IDs\n",
      "  For example, glucose is ChEBI:17234\n",
      "  Search returned no results (API may be temporarily unavailable)\n",
      "  Alternative: Use get_chebi_entity() with known ChEBI IDs\n",
      "  For example, glucose is ChEBI:17234\n",
      "  Direct lookup - ChEBI:17234: glucose\n",
      "  Direct lookup - ChEBI:17234: glucose\n"
     ]
    }
   ],
   "source": [
    "# Using the search convenience function - Note: ChEBI search API may have intermittent issues\n",
    "print(\"Searching for 'glucose':\")\n",
    "print(\"(Note: ChEBI search API is currently experiencing issues)\")\n",
    "glucose_results = search_chebi(\"glucose\", max_results=5)\n",
    "if glucose_results:\n",
    "    for i, result in enumerate(glucose_results[:3], 1):\n",
    "        print(f\"  {i}. {result.get('chebiId')}: {result.get('chebiAsciiName')} - {result.get('definition', 'No definition')[:100]}...\")\n",
    "else:\n",
    "    print(\"  Search returned no results (API may be temporarily unavailable)\")\n",
    "    print(\"  Alternative: Use get_chebi_entity() with known ChEBI IDs\")\n",
    "    print(\"  For example, glucose is ChEBI:17234\")\n",
    "    \n",
    "    # Show alternative approach\n",
    "    glucose = get_chebi_entity(17234)  # D-glucose\n",
    "    if glucose:\n",
    "        print(f\"  Direct lookup - ChEBI:17234: {glucose.get('chebiAsciiName')}\")"
   ]
  },
  {
   "cell_type": "markdown",
   "id": "2422e440",
   "metadata": {},
   "source": [
    "## 3. Searching by Name\n",
    "\n",
    "ChEBI provides powerful search capabilities to find compounds by name, synonym, or definition:"
   ]
  },
  {
   "cell_type": "code",
   "execution_count": 34,
   "id": "45636e12",
   "metadata": {},
   "outputs": [
    {
     "name": "stdout",
     "output_type": "stream",
     "text": [
      "Found 0 results for 'ethanol':\n",
      "  Search API temporarily unavailable. Using direct lookup instead:\n",
      "  Direct lookup - ChEBI:16236: ethanol\n",
      "     Definition: A primary alcohol that is ethane in which one of the hydrogens is substituted by...\n",
      "  Direct lookup - ChEBI:16236: ethanol\n",
      "     Definition: A primary alcohol that is ethane in which one of the hydrogens is substituted by...\n"
     ]
    }
   ],
   "source": [
    "# Search for compounds containing \"ethanol\" - Note: API may have issues\n",
    "ethanol_results = chebi.search_by_name(\"ethanol\", max_results=10)\n",
    "print(f\"Found {len(ethanol_results)} results for 'ethanol':\")\n",
    "\n",
    "if ethanol_results:\n",
    "    for i, result in enumerate(ethanol_results[:5], 1):\n",
    "        print(f\"  {i}. {result.get('chebiId')}: {result.get('chebiAsciiName')}\")\n",
    "        print(f\"     Definition: {result.get('definition', 'No definition')[:80]}...\")\n",
    "        print()\n",
    "else:\n",
    "    print(\"  Search API temporarily unavailable. Using direct lookup instead:\")\n",
    "    # Alternative: direct lookup for ethanol (ChEBI:16236)\n",
    "    ethanol = get_chebi_entity(16236)\n",
    "    if ethanol:\n",
    "        print(f\"  Direct lookup - ChEBI:16236: {ethanol.get('chebiAsciiName')}\")\n",
    "        print(f\"     Definition: {ethanol.get('definition', 'No definition')[:80]}...\")"
   ]
  },
  {
   "cell_type": "code",
   "execution_count": 35,
   "id": "fa8b64d2",
   "metadata": {},
   "outputs": [
    {
     "name": "stdout",
     "output_type": "stream",
     "text": [
      "Found 0 results for 'vitamin':\n",
      "  Search API temporarily unavailable. Using known vitamin ChEBI IDs:\n",
      "  • CHEBI:29073: L-ascorbic acid\n",
      "  • CHEBI:29073: L-ascorbic acid\n",
      "  • CHEBI:18405: pyridoxal 5'-phosphate\n",
      "  • CHEBI:18405: pyridoxal 5'-phosphate\n",
      "  • CHEBI:17015: riboflavin\n",
      "  • CHEBI:17015: riboflavin\n"
     ]
    }
   ],
   "source": [
    "# Search for vitamin compounds - Note: API may have issues\n",
    "vitamin_results = chebi.search_by_name(\"vitamin\", max_results=8)\n",
    "print(f\"Found {len(vitamin_results)} results for 'vitamin':\")\n",
    "\n",
    "if vitamin_results:\n",
    "    for result in vitamin_results[:5]:\n",
    "        print(f\"  • {result.get('chebiId')}: {result.get('chebiAsciiName')}\")\n",
    "else:\n",
    "    print(\"  Search API temporarily unavailable. Using known vitamin ChEBI IDs:\")\n",
    "    vitamin_ids = [29073, 18405, 17015]  # Vitamin C, Vitamin E, Vitamin D\n",
    "    for vid in vitamin_ids:\n",
    "        vitamin = get_chebi_entity(vid)\n",
    "        if vitamin:\n",
    "            print(f\"  • CHEBI:{vid}: {vitamin.get('chebiAsciiName')}\")"
   ]
  },
  {
   "cell_type": "markdown",
   "id": "d09c9563",
   "metadata": {},
   "source": [
    "## 4. Getting Chemical Structures\n",
    "\n",
    "ChEBI can provide chemical structures in various formats:"
   ]
  },
  {
   "cell_type": "code",
   "execution_count": 36,
   "id": "5b675177",
   "metadata": {},
   "outputs": [
    {
     "name": "stdout",
     "output_type": "stream",
     "text": [
      "Ethanol structure in different formats:\n",
      "  SMILES: None\n",
      "  InChI: None\n"
     ]
    }
   ],
   "source": [
    "# Get different structure formats for ethanol (ChEBI:16236)\n",
    "ethanol_id = 16236\n",
    "\n",
    "print(\"Ethanol structure in different formats:\")\n",
    "\n",
    "# Get SMILES\n",
    "smiles = chebi.get_structure(ethanol_id, \"smiles\")\n",
    "print(f\"  SMILES: {smiles}\")\n",
    "\n",
    "# Get InChI\n",
    "inchi = chebi.get_structure(ethanol_id, \"inchi\")\n",
    "print(f\"  InChI: {inchi}\")\n",
    "\n",
    "# Get MOL format (first few lines)\n",
    "mol_structure = chebi.get_structure(ethanol_id, \"mol\")\n",
    "if mol_structure:\n",
    "    mol_lines = mol_structure.split('\\n')[:5]\n",
    "    print(f\"  MOL format (first 5 lines):\")\n",
    "    for line in mol_lines:\n",
    "        print(f\"    {line}\")"
   ]
  },
  {
   "cell_type": "markdown",
   "id": "308a5c3b",
   "metadata": {},
   "source": [
    "## 5. Ontological Relationships\n",
    "\n",
    "ChEBI organizes compounds in an ontological hierarchy. You can explore parent-child relationships:"
   ]
  },
  {
   "cell_type": "code",
   "execution_count": 37,
   "id": "07d7d096",
   "metadata": {},
   "outputs": [
    {
     "name": "stdout",
     "output_type": "stream",
     "text": [
      "Ethanol ontology parents:\n",
      "  • None: None (None)\n"
     ]
    }
   ],
   "source": [
    "# Get ontology parents for ethanol\n",
    "ethanol_parents = chebi.get_ontology_parents(16236)\n",
    "print(\"Ethanol ontology parents:\")\n",
    "for parent in ethanol_parents[:5]:\n",
    "    print(f\"  • {parent.get('chebiId')}: {parent.get('chebiName')} ({parent.get('type')})\")"
   ]
  },
  {
   "cell_type": "code",
   "execution_count": 38,
   "id": "f02e5e0e",
   "metadata": {},
   "outputs": [
    {
     "name": "stdout",
     "output_type": "stream",
     "text": [
      "Found 1 children for 'alcohol' (first 5):\n",
      "  • None: None (None)\n"
     ]
    }
   ],
   "source": [
    "# Get ontology children for alcohols (ChEBI:30879)\n",
    "alcohol_children = chebi.get_ontology_children(30879)\n",
    "print(f\"Found {len(alcohol_children)} children for 'alcohol' (first 5):\")\n",
    "for child in alcohol_children[:5]:\n",
    "    print(f\"  • {child.get('chebiId')}: {child.get('chebiName')} ({child.get('type')})\")"
   ]
  },
  {
   "cell_type": "markdown",
   "id": "2b2e3144",
   "metadata": {},
   "source": [
    "## 6. Batch Processing\n",
    "\n",
    "For multiple compounds, use batch processing with built-in rate limiting:"
   ]
  },
  {
   "cell_type": "code",
   "execution_count": 39,
   "id": "706b767b",
   "metadata": {},
   "outputs": [
    {
     "name": "stdout",
     "output_type": "stream",
     "text": [
      "Batch processing multiple compounds:\n",
      "  1. water (CHEBI:15377):\n",
      "     Name: water\n",
      "     Formula: H2O\n",
      "     Mass: 18.01530\n",
      "\n",
      "  2. ethanol (CHEBI:16236):\n",
      "     Name: ethanol\n",
      "     Formula: C2H6O\n",
      "     Mass: 46.06844\n",
      "\n",
      "  3. aspirin (CHEBI:15365):\n",
      "     Name: acetylsalicylic acid\n",
      "     Formula: C9H8O4\n",
      "     Mass: 180.15740\n",
      "\n",
      "  4. caffeine (CHEBI:27732):\n",
      "     Name: caffeine\n",
      "     Formula: C8H10N4O2\n",
      "     Mass: 194.19076\n",
      "\n",
      "  5. glucose (CHEBI:17234):\n",
      "     Name: glucose\n",
      "     Formula: C6H12O6\n",
      "     Mass: 180.15588\n",
      "\n",
      "  1. water (CHEBI:15377):\n",
      "     Name: water\n",
      "     Formula: H2O\n",
      "     Mass: 18.01530\n",
      "\n",
      "  2. ethanol (CHEBI:16236):\n",
      "     Name: ethanol\n",
      "     Formula: C2H6O\n",
      "     Mass: 46.06844\n",
      "\n",
      "  3. aspirin (CHEBI:15365):\n",
      "     Name: acetylsalicylic acid\n",
      "     Formula: C9H8O4\n",
      "     Mass: 180.15740\n",
      "\n",
      "  4. caffeine (CHEBI:27732):\n",
      "     Name: caffeine\n",
      "     Formula: C8H10N4O2\n",
      "     Mass: 194.19076\n",
      "\n",
      "  5. glucose (CHEBI:17234):\n",
      "     Name: glucose\n",
      "     Formula: C6H12O6\n",
      "     Mass: 180.15588\n",
      "\n"
     ]
    }
   ],
   "source": [
    "# Process multiple ChEBI IDs at once\n",
    "compound_ids = [15377, 16236, 15365, 27732, 17234]  # water, ethanol, aspirin, caffeine, glucose\n",
    "compound_names = [\"water\", \"ethanol\", \"aspirin\", \"caffeine\", \"glucose\"]\n",
    "\n",
    "print(\"Batch processing multiple compounds:\")\n",
    "batch_results = chebi.batch_get_entities(compound_ids, pause_time=0.2)\n",
    "\n",
    "for i, (chebi_id, name) in enumerate(zip([f\"CHEBI:{id}\" for id in compound_ids], compound_names)):\n",
    "    if chebi_id in batch_results:\n",
    "        compound = batch_results[chebi_id]\n",
    "        print(f\"  {i+1}. {name} ({chebi_id}):\")\n",
    "        print(f\"     Name: {compound.get('chebiAsciiName')}\")\n",
    "        # Access formula correctly from Formulae dict\n",
    "        formulae_data = compound.get('Formulae', {})\n",
    "        formula = formulae_data.get('data', 'N/A') if formulae_data else 'N/A'\n",
    "        print(f\"     Formula: {formula}\")\n",
    "        print(f\"     Mass: {compound.get('mass')}\")\n",
    "    else:\n",
    "        print(f\"  {i+1}. {name} ({chebi_id}): Not found\")\n",
    "    print()"
   ]
  },
  {
   "cell_type": "markdown",
   "id": "e6a65346",
   "metadata": {},
   "source": [
    "## 7. Error Handling\n",
    "\n",
    "ChEBI provides robust error handling for various scenarios:"
   ]
  },
  {
   "cell_type": "code",
   "execution_count": 40,
   "id": "8665e86d",
   "metadata": {},
   "outputs": [
    {
     "name": "stderr",
     "output_type": "stream",
     "text": [
      "ChEBI API returned error: \n",
      "Failed to get complete entity for CHEBI:15377: Request timeout after 0.001 seconds\n",
      "Failed to get complete entity for CHEBI:15377: Request timeout after 0.001 seconds\n"
     ]
    },
    {
     "name": "stdout",
     "output_type": "stream",
     "text": [
      "Testing error handling:\n",
      "Invalid ID (999999999): None\n",
      "Empty search results: 0 results\n"
     ]
    }
   ],
   "source": [
    "# Try to get information for invalid ChEBI IDs\n",
    "print(\"Testing error handling:\")\n",
    "\n",
    "# Invalid ChEBI ID\n",
    "invalid_result = chebi.get_complete_entity(999999999)\n",
    "print(f\"Invalid ID (999999999): {invalid_result}\")\n",
    "\n",
    "# Non-existent compound search\n",
    "empty_search = chebi.search_by_name(\"thiscompounddoesnotexist12345\")\n",
    "print(f\"Empty search results: {len(empty_search)} results\")\n",
    "\n",
    "# Handle ChEBIError exceptions\n",
    "try:\n",
    "    # This might cause a timeout or network error\n",
    "    chebi_timeout = ChEBI(timeout=0.001)  # Very short timeout\n",
    "    result = chebi_timeout.get_complete_entity(15377)\n",
    "except ChEBIError as e:\n",
    "    print(f\"ChEBIError caught: {e}\")\n",
    "except Exception as e:\n",
    "    print(f\"Other error: {e}\")"
   ]
  },
  {
   "cell_type": "markdown",
   "id": "5da951f2",
   "metadata": {},
   "source": [
    "## 8. Exploring Compound Details\n",
    "\n",
    "Let's explore the comprehensive information available for a complex biological molecule:"
   ]
  },
  {
   "cell_type": "code",
   "execution_count": 41,
   "id": "fa045049",
   "metadata": {},
   "outputs": [
    {
     "name": "stdout",
     "output_type": "stream",
     "text": [
      "Vitamin C (CHEBI:29073) - Detailed Information:\n",
      "  ASCII Name: L-ascorbic acid\n",
      "  IUPAC Name: None\n",
      "  Definition: The L-enantiomer of ascorbic acid and conjugate acid of L-ascorbate.\n",
      "  SMILES: [H][C@@]1(OC(=O)C(O)=C1O)[C@@H](O)CO\n",
      "  Mass: 176.12410\n",
      "  Charge: 0\n",
      "  Chemical Formula:\n",
      "    • C6H8O6 (source: KEGG COMPOUND)\n",
      "  Synonyms (17 total, showing first 5):\n",
      "    • acide ascorbique (ChemIDplus)\n",
      "    • acido ascorbico (ChemIDplus)\n",
      "    • acidum ascorbicum (ChemIDplus)\n",
      "    • acidum ascorbinicum (ChemIDplus)\n",
      "    • Ascoltin (KEGG DRUG)\n",
      "  Database Links (10 total, showing first 5):\n",
      "    • BPDB accession: 2405\n",
      "    • Drug Central accession: 4072\n",
      "    • PDBeChem accession: ASC\n",
      "    • MetaCyc accession: ASCORBATE\n",
      "    • Wikipedia accession: Ascorbic_Acid\n"
     ]
    }
   ],
   "source": [
    "# Remove the problematic line that tries to access vitamin_c[\"Formulae\"][\"data\"] directly\n",
    "\n",
    "# This was causing an error since we should use .get() for safe accessvitamin_c = chebi.get_complete_entity(29073)\n",
    "\n",
    "if vitamin_c:\n",
    "    print(\"Vitamin C (CHEBI:29073) - Detailed Information:\")\n",
    "    print(f\"  ASCII Name: {vitamin_c.get('chebiAsciiName')}\")\n",
    "    print(f\"  IUPAC Name: {vitamin_c.get('iupacName')}\")\n",
    "    print(f\"  Definition: {vitamin_c.get('definition')}\")\n",
    "    print(f\"  SMILES: {vitamin_c.get('smiles')}\")\n",
    "    print(f\"  Mass: {vitamin_c.get('mass')}\")\n",
    "    print(f\"  Charge: {vitamin_c.get('charge')}\")\n",
    "    \n",
    "    # Explore formulas\n",
    "    formulae = vitamin_c.get('Formulae', {})\n",
    "    if formulae:\n",
    "        print(f\"  Chemical Formula:\")\n",
    "        print(f\"    • {formulae.get('data')} (source: {formulae.get('source')})\")\n",
    "    \n",
    "    # Explore synonyms\n",
    "    synonyms = vitamin_c.get('Synonyms', [])\n",
    "    if synonyms:\n",
    "        print(f\"  Synonyms ({len(synonyms)} total, showing first 5):\")\n",
    "        for syn in synonyms[:5]:\n",
    "            print(f\"    • {syn.get('data')} ({syn.get('source')})\")\n",
    "    \n",
    "    # Explore database links\n",
    "    db_links = vitamin_c.get('DatabaseLinks', [])\n",
    "    if db_links:\n",
    "        print(f\"  Database Links ({len(db_links)} total, showing first 5):\")\n",
    "        for link in db_links[:5]:\n",
    "            print(f\"    • {link.get('type')}: {link.get('data')}\")"
   ]
  },
  {
   "cell_type": "code",
   "execution_count": 42,
   "id": "ed411b66",
   "metadata": {},
   "outputs": [
    {
     "data": {
      "text/plain": [
       "'C6H8O6'"
      ]
     },
     "execution_count": 42,
     "metadata": {},
     "output_type": "execute_result"
    }
   ],
   "source": [
    "vitamin_c[\"Formulae\"][\"data\"]"
   ]
  },
  {
   "cell_type": "markdown",
   "id": "848b8bab",
   "metadata": {},
   "source": [
    "## 9. Practical Applications\n",
    "\n",
    "Here are some practical use cases for the ChEBI API:"
   ]
  },
  {
   "cell_type": "code",
   "execution_count": 43,
   "id": "78d8733b",
   "metadata": {},
   "outputs": [
    {
     "name": "stdout",
     "output_type": "stream",
     "text": [
      "Chemical identifiers for common metabolites:\n",
      "  CHEBI:15377: water\n",
      "    Formula: H2O, Mass: 18.01530\n",
      "    SMILES: [H]O[H]\n",
      "\n",
      "  CHEBI:16236: ethanol\n",
      "    Formula: C2H6O, Mass: 46.06844\n",
      "    SMILES: CCO\n",
      "\n",
      "  CHEBI:17234: glucose\n",
      "    Formula: C6H12O6, Mass: 180.15588\n",
      "    SMILES: None\n",
      "\n",
      "  CHEBI:15422: ATP\n",
      "    Formula: C10H16N5O13P3, Mass: 507.18100\n",
      "    SMILES: Nc1ncnc2n(cnc12)[C@@H]1O[C@H](COP(O)(=O)OP(O)(=O)OP(O)(O)=O)[C@@H](O)[C@H]1O\n",
      "\n",
      "  CHEBI:16526: carbon dioxide\n",
      "    Formula: CO2, Mass: 44.010\n",
      "    SMILES: O=C=O\n",
      "\n"
     ]
    }
   ],
   "source": [
    "# Use case 1: Get basic chemical identifiers for a list of compounds\n",
    "def get_chemical_identifiers(chebi_ids):\n",
    "    \"\"\"Get basic chemical identifiers for multiple compounds\"\"\"\n",
    "    results = []\n",
    "    for chebi_id in chebi_ids:\n",
    "        compound = get_chebi_entity(chebi_id)\n",
    "        if compound:\n",
    "            results.append({\n",
    "                'chebi_id': f\"CHEBI:{chebi_id}\",\n",
    "                'name': compound.get('chebiAsciiName'),\n",
    "                'smiles': compound.get('smiles'),\n",
    "                'inchi_key': compound.get('inchiKey'),\n",
    "                'mass': compound.get('mass'),\n",
    "                # Access formula correctly from Formulae dict\n",
    "                'formula': compound.get('Formulae', {}).get('data') if compound.get('Formulae') else None\n",
    "            })\n",
    "        else:\n",
    "            results.append({\n",
    "                'chebi_id': f\"CHEBI:{chebi_id}\",\n",
    "                'error': 'Not found'\n",
    "            })\n",
    "    return results\n",
    "\n",
    "# Test with common metabolites\n",
    "metabolite_ids = [15377, 16236, 17234, 15422, 16526]  # water, ethanol, glucose, adenosine triphosphate, carbon dioxide\n",
    "metabolite_data = get_chemical_identifiers(metabolite_ids)\n",
    "\n",
    "print(\"Chemical identifiers for common metabolites:\")\n",
    "for data in metabolite_data:\n",
    "    if 'error' not in data:\n",
    "        print(f\"  {data['chebi_id']}: {data['name']}\")\n",
    "        print(f\"    Formula: {data['formula']}, Mass: {data['mass']}\")\n",
    "        print(f\"    SMILES: {data['smiles']}\")\n",
    "    else:\n",
    "        print(f\"  {data['chebi_id']}: {data['error']}\")\n",
    "    print()"
   ]
  },
  {
   "cell_type": "code",
   "execution_count": 44,
   "id": "66ad66fd",
   "metadata": {},
   "outputs": [
    {
     "name": "stdout",
     "output_type": "stream",
     "text": [
      "Note: ChEBI search API is currently having issues.\n",
      "For demonstration, showing some known compounds related to 'antioxidant':\n",
      "Compounds related to 'antioxidant':\n",
      "  • CHEBI:29073: L-ascorbic acid\n",
      "    Definition: The L-enantiomer of ascorbic acid and conjugate acid of L-ascorbate....\n",
      "    SMILES: [H][C@@]1(OC(=O)C(O)=C1O)[C@@H](O)CO\n",
      "\n",
      "  • CHEBI:16236: ethanol\n",
      "    Definition: A primary alcohol that is ethane in which one of the hydrogens is substituted by a hydroxy group....\n",
      "    SMILES: CCO\n",
      "\n",
      "  • CHEBI:27732: caffeine\n",
      "    Definition: A trimethylxanthine in which the three methyl groups are located at positions 1, 3, and 7. A purine ...\n",
      "    SMILES: Cn1cnc2n(C)c(=O)n(C)c(=O)c12\n",
      "\n",
      "Compounds related to 'antioxidant':\n",
      "  • CHEBI:29073: L-ascorbic acid\n",
      "    Definition: The L-enantiomer of ascorbic acid and conjugate acid of L-ascorbate....\n",
      "    SMILES: [H][C@@]1(OC(=O)C(O)=C1O)[C@@H](O)CO\n",
      "\n",
      "  • CHEBI:16236: ethanol\n",
      "    Definition: A primary alcohol that is ethane in which one of the hydrogens is substituted by a hydroxy group....\n",
      "    SMILES: CCO\n",
      "\n",
      "  • CHEBI:27732: caffeine\n",
      "    Definition: A trimethylxanthine in which the three methyl groups are located at positions 1, 3, and 7. A purine ...\n",
      "    SMILES: Cn1cnc2n(C)c(=O)n(C)c(=O)c12\n",
      "\n"
     ]
    }
   ],
   "source": [
    "# Use case 2: Find compounds by biological role\n",
    "def find_compounds_by_role(search_term, max_results=10):\n",
    "    \"\"\"Find compounds related to a biological role or function\"\"\"\n",
    "    # Note: Search API may have issues, so we'll show an alternative approach\n",
    "    print(f\"Note: ChEBI search API is currently having issues.\")\n",
    "    print(f\"For demonstration, showing some known compounds related to '{search_term}':\")\n",
    "    \n",
    "    # Example compounds for different search terms\n",
    "    known_compounds = {\n",
    "        'antioxidant': [29073, 16236, 27732],  # Vitamin C, ethanol, caffeine\n",
    "        'vitamin': [29073, 18405, 17015],      # Vitamin C, E, D\n",
    "        'hormone': [15365, 27732],             # Example compounds\n",
    "    }\n",
    "    \n",
    "    compound_ids = known_compounds.get(search_term.lower(), [29073, 16236])  # Default examples\n",
    "    compounds = []\n",
    "    \n",
    "    for compound_id in compound_ids[:max_results]:\n",
    "        detailed = get_chebi_entity(compound_id)\n",
    "        if detailed:\n",
    "            compounds.append({\n",
    "                'chebi_id': f\"CHEBI:{compound_id}\",\n",
    "                'name': detailed.get('chebiAsciiName'),\n",
    "                'definition': detailed.get('definition'),\n",
    "                'smiles': detailed.get('smiles'),\n",
    "                'mass': detailed.get('mass')\n",
    "            })\n",
    "    \n",
    "    return compounds\n",
    "\n",
    "# Search for antioxidants\n",
    "antioxidants = find_compounds_by_role(\"antioxidant\", max_results=5)\n",
    "print(\"Compounds related to 'antioxidant':\")\n",
    "for compound in antioxidants[:3]:\n",
    "    print(f\"  • {compound['chebi_id']}: {compound['name']}\")\n",
    "    print(f\"    Definition: {compound['definition'][:100]}...\")\n",
    "    print(f\"    SMILES: {compound['smiles']}\")\n",
    "    print()"
   ]
  },
  {
   "cell_type": "code",
   "execution_count": 45,
   "id": "9fd51a62",
   "metadata": {},
   "outputs": [
    {
     "name": "stdout",
     "output_type": "stream",
     "text": [
      "Pharmaceutical compound database:\n",
      "\n",
      "CHEBI:15365: acetylsalicylic acid\n",
      "  IUPAC: None\n",
      "  Mass: 180.15740\n",
      "  Cross-references:\n",
      "    Drug Central accession: ['74']...\n",
      "    PDBeChem accession: ['AIN']...\n",
      "    Wikipedia accession: ['Aspirin']...\n",
      "    KEGG COMPOUND accession: ['C01405']...\n",
      "    MetaCyc accession: ['CPD-524']...\n",
      "    KEGG DRUG accession: ['D00109']...\n",
      "    DrugBank accession: ['DB00945']...\n",
      "    HMDB accession: ['HMDB0001879']...\n",
      "    LINCS accession: ['LSM-5288']...\n",
      "\n",
      "CHEBI:27732: caffeine\n",
      "  IUPAC: None\n",
      "  Mass: 194.19076\n",
      "  Cross-references:\n",
      "    MetaCyc accession: ['1-3-7-TRIMETHYLXANTHINE']...\n",
      "    Drug Central accession: ['463']...\n",
      "    KNApSAcK accession: ['C00001492']...\n",
      "    KEGG COMPOUND accession: ['C07481']...\n",
      "    Wikipedia accession: ['Caffeine']...\n",
      "    PDBeChem accession: ['CFF']...\n",
      "    KEGG DRUG accession: ['D00528']...\n",
      "    DrugBank accession: ['DB00201']...\n",
      "    HMDB accession: ['HMDB0001847']...\n",
      "    LINCS accession: ['LSM-2026']...\n",
      "\n",
      "CHEBI:3002: beclomethasone dipropionate\n",
      "  IUPAC: None\n",
      "  Mass: 521.04188\n",
      "  Cross-references:\n",
      "    Drug Central accession: ['294']...\n",
      "    Wikipedia accession: ['Beclometasone_dipropionate']...\n",
      "    KEGG COMPOUND accession: ['C07813']...\n",
      "    KEGG DRUG accession: ['D00689']...\n",
      "    DrugBank accession: ['DB00394']...\n",
      "    Patent accession: ['US3312590']...\n"
     ]
    }
   ],
   "source": [
    "# Use case 3: Build a compound database with cross-references\n",
    "def build_compound_database(chebi_ids):\n",
    "    \"\"\"Build a comprehensive compound database with cross-references\"\"\"\n",
    "    database = {}\n",
    "    \n",
    "    for chebi_id in chebi_ids:\n",
    "        compound = get_chebi_entity(chebi_id)\n",
    "        if compound:\n",
    "            # Extract cross-references\n",
    "            db_links = compound.get('DatabaseLinks', [])\n",
    "            cross_refs = {}\n",
    "            for link in db_links:\n",
    "                db_type = link.get('type', 'Unknown')\n",
    "                if db_type not in cross_refs:\n",
    "                    cross_refs[db_type] = []\n",
    "                cross_refs[db_type].append(link.get('data'))\n",
    "            \n",
    "            database[f\"CHEBI:{chebi_id}\"] = {\n",
    "                'name': compound.get('chebiAsciiName'),\n",
    "                'iupac_name': compound.get('iupacName'),\n",
    "                'definition': compound.get('definition'),\n",
    "                'smiles': compound.get('smiles'),\n",
    "                'inchi_key': compound.get('inchiKey'),\n",
    "                'mass': compound.get('mass'),\n",
    "                'charge': compound.get('charge'),\n",
    "                'cross_references': cross_refs\n",
    "            }\n",
    "    \n",
    "    return database\n",
    "\n",
    "# Build database for some pharmaceutical compounds\n",
    "pharma_ids = [15365, 27732, 3002]  # aspirin, caffeine, morphine\n",
    "pharma_db = build_compound_database(pharma_ids)\n",
    "\n",
    "print(\"Pharmaceutical compound database:\")\n",
    "for chebi_id, data in pharma_db.items():\n",
    "    print(f\"\\n{chebi_id}: {data['name']}\")\n",
    "    print(f\"  IUPAC: {data['iupac_name']}\")\n",
    "    print(f\"  Mass: {data['mass']}\")\n",
    "    print(f\"  Cross-references:\")\n",
    "    for db_name, refs in data['cross_references'].items():\n",
    "        if refs:  # Only show non-empty references\n",
    "            print(f\"    {db_name}: {refs[:2]}...\")  # Show first 2 references"
   ]
  },
  {
   "cell_type": "markdown",
   "id": "177e4c40",
   "metadata": {},
   "source": [
    "## Summary\n",
    "\n",
    "The `ChEBI` class and convenience functions provide comprehensive access to the ChEBI database:\n",
    "\n",
    "### Main ChEBI Class Methods:\n",
    "1. **`get_complete_entity(chebi_id)`**: Get detailed information for a ChEBI ID\n",
    "2. **`get_lite_entity(chebi_id)`**: Get basic information only\n",
    "3. **`search_by_name(search_text)`**: Search compounds by name\n",
    "4. **`get_structure(chebi_id, format)`**: Get chemical structures (SMILES, InChI, MOL)\n",
    "5. **`get_ontology_parents(chebi_id)`**: Get parent entities in ontology\n",
    "6. **`get_ontology_children(chebi_id)`**: Get child entities in ontology\n",
    "7. **`batch_get_entities(chebi_ids)`**: Process multiple IDs efficiently\n",
    "\n",
    "### Convenience Functions:\n",
    "- **`get_chebi_entity(chebi_id)`**: Quick entity lookup\n",
    "- **`search_chebi(search_text)`**: Quick search functionality\n",
    "\n",
    "### Key Features:\n",
    "- ✅ **Comprehensive Data**: Names, structures, properties, ontology, cross-references\n",
    "- ✅ **Multiple Formats**: SMILES, InChI, MOL files for structures\n",
    "- ✅ **Ontological Browsing**: Navigate parent-child relationships\n",
    "- ✅ **Batch Processing**: Efficient handling of multiple compounds\n",
    "- ✅ **Error Handling**: Robust error management with custom exceptions\n",
    "- ✅ **Rate Limiting**: Built-in delays for respectful API usage\n",
    "- ✅ **Free Access**: No API key required\n",
    "\n",
    "### Returned Data Includes:\n",
    "- Chemical identifiers (name, IUPAC name, synonyms)\n",
    "- Molecular structures (SMILES, InChI, InChI Key)\n",
    "- Physical properties (mass, charge, molecular formula)\n",
    "- Biological information (definition, role, function)\n",
    "- Database cross-references (PubChem, UniProt, KEGG, etc.)\n",
    "- Ontological relationships (parents, children, classifications)\n",
    "\n",
    "### Best Use Cases:\n",
    "- Chemical database integration\n",
    "- Biological pathway analysis\n",
    "- Drug discovery research\n",
    "- Metabolomics studies\n",
    "- Chemical ontology exploration\n",
    "- Cross-database linking\n",
    "\n",
    "ChEBI is particularly valuable for researchers working with biological systems, as it focuses on chemical entities relevant to biological processes and provides rich ontological context for understanding chemical relationships."
   ]
  }
 ],
 "metadata": {
  "kernelspec": {
   "display_name": "physchem",
   "language": "python",
   "name": "python3"
  },
  "language_info": {
   "codemirror_mode": {
    "name": "ipython",
    "version": 3
   },
   "file_extension": ".py",
   "mimetype": "text/x-python",
   "name": "python",
   "nbconvert_exporter": "python",
   "pygments_lexer": "ipython3",
   "version": "3.11.9"
  }
 },
 "nbformat": 4,
 "nbformat_minor": 5
}
