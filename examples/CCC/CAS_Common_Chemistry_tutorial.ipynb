{
 "cells": [
  {
   "cell_type": "markdown",
   "id": "e02e9b34",
   "metadata": {},
   "source": [
    "# CAS Common Chemistry API Tutorial\n",
    "\n",
    "This tutorial demonstrates how to use the `CASCommonChem` class from the `provesid` package to access chemical information from the CAS Common Chemistry database. The CAS Common Chemistry API provides access to chemical information for more than 500,000 chemical substances from CAS REGISTRY®."
   ]
  },
  {
   "cell_type": "markdown",
   "metadata": {},
   "source": [
    "## 1. Import and Initialize\n",
    "\n",
    "First, import the class and create an instance:"
   ]
  },
  {
   "cell_type": "code",
   "execution_count": 6,
   "metadata": {},
   "outputs": [
    {
     "name": "stdout",
     "output_type": "stream",
     "text": [
      "CASCommonChem initialized successfully!\n",
      "Base URL: https://commonchemistry.cas.org/api\n"
     ]
    }
   ],
   "source": [
    "from provesid import CASCommonChem\n",
    "ccc = CASCommonChem()\n",
    "print(\"CASCommonChem initialized successfully!\")\n",
    "print(f\"Base URL: {ccc.base_url}\")"
   ]
  },
  {
   "cell_type": "markdown",
   "id": "90453251",
   "metadata": {},
   "source": [
    "## 2. Lookup by CAS Registry Number\n",
    "\n",
    "The most direct way to get chemical information is by using a CAS Registry Number (CAS RN). Let's look up some common compounds:"
   ]
  },
  {
   "cell_type": "code",
   "execution_count": 7,
   "id": "aed271b7",
   "metadata": {},
   "outputs": [
    {
     "name": "stdout",
     "output_type": "stream",
     "text": [
      "Water (7732-18-5):\n",
      "  Name: Water\n",
      "  Molecular Formula: H<sub>2</sub>O\n",
      "  Molecular Mass: 18.02\n",
      "  SMILES: O\n",
      "  InChI: InChI=1S/H2O/h1H2\n",
      "  Status: Success\n"
     ]
    }
   ],
   "source": [
    "# Lookup water by CAS RN\n",
    "water_info = ccc.cas_to_detail(\"7732-18-5\")\n",
    "print(\"Water (7732-18-5):\")\n",
    "print(f\"  Name: {water_info.get('name')}\")\n",
    "print(f\"  Molecular Formula: {water_info.get('molecularFormula')}\")\n",
    "print(f\"  Molecular Mass: {water_info.get('molecularMass')}\")\n",
    "print(f\"  SMILES: {water_info.get('smile')}\")\n",
    "print(f\"  InChI: {water_info.get('inchi')}\")\n",
    "print(f\"  Status: {water_info.get('status')}\")"
   ]
  },
  {
   "cell_type": "code",
   "execution_count": 8,
   "id": "14611c8e",
   "metadata": {},
   "outputs": [
    {
     "name": "stdout",
     "output_type": "stream",
     "text": [
      "Aspirin (50-78-2):\n",
      "  Name: Aspirin\n",
      "  Molecular Formula: C<sub>9</sub>H<sub>8</sub>O<sub>4</sub>\n",
      "  Molecular Mass: 180.16\n",
      "  SMILES: C(O)(=O)C1=C(OC(C)=O)C=CC=C1\n",
      "  Number of synonyms: 143\n",
      "  First 5 synonyms: ['Benzoic acid, 2-(acetyloxy)-', 'Rhodine', 'Salicylic acid acetate', '2-(Acetyloxy)benzoic acid', 'Aceticyl']\n"
     ]
    }
   ],
   "source": [
    "# Lookup aspirin by CAS RN\n",
    "aspirin_info = ccc.cas_to_detail(\"50-78-2\")\n",
    "print(\"Aspirin (50-78-2):\")\n",
    "print(f\"  Name: {aspirin_info.get('name')}\")\n",
    "print(f\"  Molecular Formula: {aspirin_info.get('molecularFormula')}\")\n",
    "print(f\"  Molecular Mass: {aspirin_info.get('molecularMass')}\")\n",
    "print(f\"  SMILES: {aspirin_info.get('smile')}\")\n",
    "print(f\"  Number of synonyms: {len(aspirin_info.get('synonyms', []))}\")\n",
    "print(f\"  First 5 synonyms: {aspirin_info.get('synonyms', [])[:5]}\")"
   ]
  },
  {
   "cell_type": "markdown",
   "id": "bce7c681",
   "metadata": {},
   "source": [
    "## 3. Search by Name\n",
    "\n",
    "You can search for compounds using their common names or IUPAC names:"
   ]
  },
  {
   "cell_type": "code",
   "execution_count": 9,
   "id": "eef21443",
   "metadata": {},
   "outputs": [
    {
     "name": "stdout",
     "output_type": "stream",
     "text": [
      "Caffeine (by name search):\n",
      "  CAS RN: 58-08-2\n",
      "  Name: Caffeine\n",
      "  Molecular Formula: C<sub>8</sub>H<sub>10</sub>N<sub>4</sub>O<sub>2</sub>\n",
      "  Molecular Mass: 194.19\n",
      "  Status: Success\n"
     ]
    }
   ],
   "source": [
    "# Search by common name\n",
    "caffeine_info = ccc.name_to_detail(\"caffeine\")\n",
    "print(\"Caffeine (by name search):\")\n",
    "print(f\"  CAS RN: {caffeine_info.get('rn')}\")\n",
    "print(f\"  Name: {caffeine_info.get('name')}\")\n",
    "print(f\"  Molecular Formula: {caffeine_info.get('molecularFormula')}\")\n",
    "print(f\"  Molecular Mass: {caffeine_info.get('molecularMass')}\")\n",
    "print(f\"  Status: {caffeine_info.get('status')}\")"
   ]
  },
  {
   "cell_type": "code",
   "execution_count": 10,
   "id": "94b8f310",
   "metadata": {},
   "outputs": [
    {
     "name": "stdout",
     "output_type": "stream",
     "text": [
      "Acetone (by IUPAC name 'propan-2-one'):\n",
      "  CAS RN: \n",
      "  Name: \n",
      "  Molecular Formula: \n",
      "  SMILES: \n",
      "  Status: Not found\n"
     ]
    }
   ],
   "source": [
    "# Search by IUPAC name\n",
    "acetone_info = ccc.name_to_detail(\"propan-2-one\")\n",
    "print(\"Acetone (by IUPAC name 'propan-2-one'):\")\n",
    "print(f\"  CAS RN: {acetone_info.get('rn')}\")\n",
    "print(f\"  Name: {acetone_info.get('name')}\")\n",
    "print(f\"  Molecular Formula: {acetone_info.get('molecularFormula')}\")\n",
    "print(f\"  SMILES: {acetone_info.get('smile')}\")\n",
    "print(f\"  Status: {acetone_info.get('status')}\")"
   ]
  },
  {
   "cell_type": "markdown",
   "id": "639eeebf",
   "metadata": {},
   "source": [
    "## 4. Search by SMILES\n",
    "\n",
    "You can also search using SMILES notation:"
   ]
  },
  {
   "cell_type": "code",
   "execution_count": 11,
   "id": "cd69631c",
   "metadata": {},
   "outputs": [
    {
     "name": "stdout",
     "output_type": "stream",
     "text": [
      "Compound with SMILES 'CCO':\n",
      "  CAS RN: \n",
      "  Name: \n",
      "  Molecular Formula: \n",
      "  Canonical SMILES: \n",
      "  Status: Not found\n"
     ]
    }
   ],
   "source": [
    "# Search by SMILES string\n",
    "ethanol_smiles = \"CCO\"\n",
    "ethanol_info = ccc.smiles_to_detail(ethanol_smiles)\n",
    "print(f\"Compound with SMILES '{ethanol_smiles}':\")\n",
    "print(f\"  CAS RN: {ethanol_info.get('rn')}\")\n",
    "print(f\"  Name: {ethanol_info.get('name')}\")\n",
    "print(f\"  Molecular Formula: {ethanol_info.get('molecularFormula')}\")\n",
    "print(f\"  Canonical SMILES: {ethanol_info.get('canonicalSmile')}\")\n",
    "print(f\"  Status: {ethanol_info.get('status')}\")"
   ]
  },
  {
   "cell_type": "markdown",
   "id": "eb11d542",
   "metadata": {},
   "source": [
    "## 5. Exploring Detailed Information\n",
    "\n",
    "The API returns comprehensive information about each compound. Let's explore what's available:"
   ]
  },
  {
   "cell_type": "code",
   "execution_count": 12,
   "id": "96357779",
   "metadata": {},
   "outputs": [
    {
     "name": "stdout",
     "output_type": "stream",
     "text": [
      "Formaldehyde - Complete Information:\n",
      "  CAS RN: 50-00-0\n",
      "  Name: Formaldehyde\n",
      "  Molecular Formula: CH<sub>2</sub>O\n",
      "  Molecular Mass: 30.03\n",
      "  SMILES: C=O\n",
      "  Canonical SMILES: O=C\n",
      "  InChI: InChI=1S/CH2O/c1-2/h1H2\n",
      "  InChI Key: InChIKey=WSFSSNUMVMOOMR-UHFFFAOYSA-N\n",
      "  Has Molfile: True\n",
      "  Number of images: 1\n",
      "  Number of experimental properties: 3\n",
      "  URI: substance/pt/50000\n"
     ]
    }
   ],
   "source": [
    "# Get detailed information for formaldehyde\n",
    "formaldehyde_info = ccc.cas_to_detail(\"50-00-0\")\n",
    "\n",
    "print(\"Formaldehyde - Complete Information:\")\n",
    "print(f\"  CAS RN: {formaldehyde_info.get('rn')}\")\n",
    "print(f\"  Name: {formaldehyde_info.get('name')}\")\n",
    "print(f\"  Molecular Formula: {formaldehyde_info.get('molecularFormula')}\")\n",
    "print(f\"  Molecular Mass: {formaldehyde_info.get('molecularMass')}\")\n",
    "print(f\"  SMILES: {formaldehyde_info.get('smile')}\")\n",
    "print(f\"  Canonical SMILES: {formaldehyde_info.get('canonicalSmile')}\")\n",
    "print(f\"  InChI: {formaldehyde_info.get('inchi')}\")\n",
    "print(f\"  InChI Key: {formaldehyde_info.get('inchiKey')}\")\n",
    "print(f\"  Has Molfile: {formaldehyde_info.get('hasMolfile')}\")\n",
    "print(f\"  Number of images: {len(formaldehyde_info.get('images', []))}\")\n",
    "print(f\"  Number of experimental properties: {len(formaldehyde_info.get('experimentalProperties', []))}\")\n",
    "print(f\"  URI: {formaldehyde_info.get('uri')}\")"
   ]
  },
  {
   "cell_type": "code",
   "execution_count": 13,
   "id": "0d7f993e",
   "metadata": {},
   "outputs": [
    {
     "name": "stdout",
     "output_type": "stream",
     "text": [
      "\n",
      "Formaldehyde has 30 synonyms:\n",
      "First 10 synonyms:\n",
      "  1. Formaldehyde\n",
      "  2. BFV\n",
      "  3. Fannoform\n",
      "  4. Formalin\n",
      "  5. Formalith\n",
      "  6. Formic aldehyde\n",
      "  7. Formol\n",
      "  8. Fyde\n",
      "  9. Methanal\n",
      "  10. Methyl aldehyde\n"
     ]
    }
   ],
   "source": [
    "# Explore synonyms\n",
    "synonyms = formaldehyde_info.get('synonyms', [])\n",
    "print(f\"\\nFormaldehyde has {len(synonyms)} synonyms:\")\n",
    "print(\"First 10 synonyms:\")\n",
    "for i, synonym in enumerate(synonyms[:10], 1):\n",
    "    print(f\"  {i}. {synonym}\")"
   ]
  },
  {
   "cell_type": "code",
   "execution_count": 14,
   "id": "505ad06a",
   "metadata": {},
   "outputs": [
    {
     "name": "stdout",
     "output_type": "stream",
     "text": [
      "\n",
      "Formaldehyde has 3 experimental properties:\n",
      "First few experimental properties:\n",
      "  1. Property: -19.5 °C\n",
      "     Value: N/A\n",
      "     Units: N/A\n",
      "\n",
      "  2. Property: -92 °C\n",
      "     Value: N/A\n",
      "     Units: N/A\n",
      "\n",
      "  3. Property: 0.8 g/cm³\n",
      "     Value: N/A\n",
      "     Units: N/A\n",
      "\n"
     ]
    }
   ],
   "source": [
    "# Explore experimental properties\n",
    "exp_props = formaldehyde_info.get('experimentalProperties', [])\n",
    "print(f\"\\nFormaldehyde has {len(exp_props)} experimental properties:\")\n",
    "if exp_props:\n",
    "    print(\"First few experimental properties:\")\n",
    "    for i, prop in enumerate(exp_props[:3], 1):\n",
    "        print(f\"  {i}. Property: {prop.get('property', 'N/A')}\")\n",
    "        print(f\"     Value: {prop.get('value', 'N/A')}\")\n",
    "        print(f\"     Units: {prop.get('units', 'N/A')}\")\n",
    "        print()"
   ]
  },
  {
   "cell_type": "markdown",
   "id": "278154d1",
   "metadata": {},
   "source": [
    "## 6. Error Handling\n",
    "\n",
    "The API handles various error conditions gracefully. Let's see what happens with invalid inputs:"
   ]
  },
  {
   "cell_type": "code",
   "execution_count": 15,
   "id": "e96a7990",
   "metadata": {},
   "outputs": [
    {
     "name": "stdout",
     "output_type": "stream",
     "text": [
      "Invalid CAS RN (0000-00-0):\n",
      "  Status: Invalid Request\n",
      "  Name: \n",
      "\n",
      "Non-existent compound name:\n",
      "  Status: Not found\n",
      "\n",
      "Non-existent compound name:\n",
      "  Status: Not found\n",
      "\n",
      "Invalid SMILES:\n",
      "  Status: Not found\n",
      "\n",
      "Invalid SMILES:\n",
      "  Status: Not found\n"
     ]
    }
   ],
   "source": [
    "# Try an invalid CAS RN\n",
    "invalid_cas = ccc.cas_to_detail(\"0000-00-0\")\n",
    "print(\"Invalid CAS RN (0000-00-0):\")\n",
    "print(f\"  Status: {invalid_cas.get('status')}\")\n",
    "print(f\"  Name: {invalid_cas.get('name')}\")\n",
    "\n",
    "# Try a non-existent compound name\n",
    "non_existent = ccc.name_to_detail(\"thiscompounddoesnotexist12345\")\n",
    "print(f\"\\nNon-existent compound name:\")\n",
    "print(f\"  Status: {non_existent.get('status')}\")\n",
    "\n",
    "# Try an invalid SMILES\n",
    "invalid_smiles = ccc.smiles_to_detail(\"INVALID_SMILES\")\n",
    "print(f\"\\nInvalid SMILES:\")\n",
    "print(f\"  Status: {invalid_smiles.get('status')}\")"
   ]
  },
  {
   "cell_type": "markdown",
   "id": "ef2dfc3d",
   "metadata": {},
   "source": [
    "## 7. Common Use Cases\n",
    "\n",
    "Here are some practical examples of how to use the CASCommonChem class:"
   ]
  },
  {
   "cell_type": "code",
   "execution_count": 16,
   "id": "2f1c4c3c",
   "metadata": {},
   "outputs": [
    {
     "name": "stdout",
     "output_type": "stream",
     "text": [
      "Benzene identifiers:\n",
      "  cas_rn: 71-43-2\n",
      "  name: Benzene\n",
      "  formula: C<sub>6</sub>H<sub>6</sub>\n",
      "  mass: 78.11\n",
      "  smiles: C=1C=CC=CC1\n",
      "  inchi_key: InChIKey=UHOVQNZJYSORNB-UHFFFAOYSA-N\n"
     ]
    }
   ],
   "source": [
    "# Use case 1: Get basic identifiers for a compound\n",
    "def get_basic_identifiers(cas_rn):\n",
    "    \"\"\"Get basic chemical identifiers for a compound\"\"\"\n",
    "    info = ccc.cas_to_detail(cas_rn)\n",
    "    if info.get('status') == 'Success':\n",
    "        return {\n",
    "            'cas_rn': info.get('rn'),\n",
    "            'name': info.get('name'),\n",
    "            'formula': info.get('molecularFormula'),\n",
    "            'mass': info.get('molecularMass'),\n",
    "            'smiles': info.get('smile'),\n",
    "            'inchi_key': info.get('inchiKey')\n",
    "        }\n",
    "    return None\n",
    "\n",
    "# Test with benzene\n",
    "benzene_ids = get_basic_identifiers(\"71-43-2\")\n",
    "print(\"Benzene identifiers:\")\n",
    "for key, value in benzene_ids.items():\n",
    "    print(f\"  {key}: {value}\")"
   ]
  },
  {
   "cell_type": "code",
   "execution_count": 17,
   "id": "dbb4d6db",
   "metadata": {},
   "outputs": [
    {
     "name": "stdout",
     "output_type": "stream",
     "text": [
      "Glucose (50-99-7) has 54 synonyms:\n",
      "Sample synonyms:\n",
      "  - <span class=\"text-smallcaps\">D</span>-Glucose\n",
      "  - Anhydrous dextrose\n",
      "  - Cartose\n",
      "  - Cerelose\n",
      "  - Corn sugar\n",
      "  - Dextropur\n",
      "  - Dextrose\n",
      "  - Dextrosol\n"
     ]
    }
   ],
   "source": [
    "# Use case 2: Find all synonyms for a compound\n",
    "def get_all_synonyms(cas_rn):\n",
    "    \"\"\"Get all synonyms for a compound\"\"\"\n",
    "    info = ccc.cas_to_detail(cas_rn)\n",
    "    if info.get('status') == 'Success':\n",
    "        return {\n",
    "            'name': info.get('name'),\n",
    "            'cas_rn': info.get('rn'),\n",
    "            'synonyms': info.get('synonyms', [])\n",
    "        }\n",
    "    return None\n",
    "\n",
    "# Test with glucose\n",
    "glucose_synonyms = get_all_synonyms(\"50-99-7\")\n",
    "if glucose_synonyms:\n",
    "    print(f\"Glucose ({glucose_synonyms['cas_rn']}) has {len(glucose_synonyms['synonyms'])} synonyms:\")\n",
    "    print(\"Sample synonyms:\")\n",
    "    for synonym in glucose_synonyms['synonyms'][:8]:\n",
    "        print(f\"  - {synonym}\")"
   ]
  },
  {
   "cell_type": "code",
   "execution_count": 18,
   "id": "98aa0b6b",
   "metadata": {},
   "outputs": [
    {
     "name": "stdout",
     "output_type": "stream",
     "text": [
      "Comparison of three compounds:\n",
      "----------------------------------------------------------------------\n",
      "CAS RN: 64-17-5\n",
      "  Name: Ethanol\n",
      "  Formula: C<sub>2</sub>H<sub>6</sub>O\n",
      "  Mass: 46.07\n",
      "  SMILES: C(C)O\n",
      "----------------------------------------------------------------------\n",
      "CAS RN: 64-17-5\n",
      "  Name: Ethanol\n",
      "  Formula: C<sub>2</sub>H<sub>6</sub>O\n",
      "  Mass: 46.07\n",
      "  SMILES: C(C)O\n",
      "----------------------------------------------------------------------\n",
      "CAS RN: 67-56-1\n",
      "  Name: Methanol\n",
      "  Formula: CH<sub>4</sub>O\n",
      "  Mass: 32.04\n",
      "  SMILES: CO\n",
      "----------------------------------------------------------------------\n",
      "CAS RN: 67-56-1\n",
      "  Name: Methanol\n",
      "  Formula: CH<sub>4</sub>O\n",
      "  Mass: 32.04\n",
      "  SMILES: CO\n",
      "----------------------------------------------------------------------\n",
      "CAS RN: 78-93-3\n",
      "  Name: Methyl ethyl ketone\n",
      "  Formula: C<sub>4</sub>H<sub>8</sub>O\n",
      "  Mass: 72.11\n",
      "  SMILES: C(CC)(C)=O\n",
      "----------------------------------------------------------------------\n",
      "CAS RN: 78-93-3\n",
      "  Name: Methyl ethyl ketone\n",
      "  Formula: C<sub>4</sub>H<sub>8</sub>O\n",
      "  Mass: 72.11\n",
      "  SMILES: C(CC)(C)=O\n",
      "----------------------------------------------------------------------\n"
     ]
    }
   ],
   "source": [
    "# Use case 3: Compare multiple compounds\n",
    "compounds_to_compare = [\"64-17-5\", \"67-56-1\", \"78-93-3\"]  # Ethanol, Methanol, Butanone\n",
    "\n",
    "print(\"Comparison of three compounds:\")\n",
    "print(\"-\" * 70)\n",
    "for cas_rn in compounds_to_compare:\n",
    "    info = ccc.cas_to_detail(cas_rn)\n",
    "    if info.get('status') == 'Success':\n",
    "        print(f\"CAS RN: {cas_rn}\")\n",
    "        print(f\"  Name: {info.get('name')}\")\n",
    "        print(f\"  Formula: {info.get('molecularFormula')}\")\n",
    "        print(f\"  Mass: {info.get('molecularMass')}\")\n",
    "        print(f\"  SMILES: {info.get('smile')}\")\n",
    "        print(\"-\" * 70)"
   ]
  },
  {
   "cell_type": "markdown",
   "id": "a5af2f22",
   "metadata": {},
   "source": [
    "## Summary\n",
    "\n",
    "The `CASCommonChem` class provides three main methods:\n",
    "\n",
    "1. **`cas_to_detail(cas_rn)`**: Look up by CAS Registry Number\n",
    "2. **`name_to_detail(name)`**: Search by compound name or IUPAC name  \n",
    "3. **`smiles_to_detail(smiles)`**: Search by SMILES notation\n",
    "\n",
    "### Key Features:\n",
    "- ✅ Access to 500,000+ chemical substances\n",
    "- ✅ Comprehensive chemical data (names, formulas, structures, properties)\n",
    "- ✅ Multiple search methods (CAS RN, name, SMILES)\n",
    "- ✅ Robust error handling\n",
    "- ✅ Rich metadata including synonyms and experimental properties\n",
    "\n",
    "### Returned Data Includes:\n",
    "- Basic identifiers (name, CAS RN, molecular formula, mass)\n",
    "- Structure information (SMILES, InChI, InChI Key)\n",
    "- Synonyms and alternative names\n",
    "- Experimental properties\n",
    "- Images and molecular files (when available)\n",
    "- Citations and references"
   ]
  }
 ],
 "metadata": {
  "kernelspec": {
   "display_name": "physchem",
   "language": "python",
   "name": "python3"
  },
  "language_info": {
   "codemirror_mode": {
    "name": "ipython",
    "version": 3
   },
   "file_extension": ".py",
   "mimetype": "text/x-python",
   "name": "python",
   "nbconvert_exporter": "python",
   "pygments_lexer": "ipython3",
   "version": "3.11.9"
  }
 },
 "nbformat": 4,
 "nbformat_minor": 5
}
