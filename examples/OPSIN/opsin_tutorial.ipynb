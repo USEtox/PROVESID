{
 "cells": [
  {
   "cell_type": "markdown",
   "id": "bbbd4c5e",
   "metadata": {},
   "source": [
    "# OPSIN (Open Parser for Systematic IUPAC Nomenclature) Tutorial\n",
    "\n",
    "OPSIN is a chemical name-to-structure service that converts IUPAC chemical names into chemical structures. This tutorial demonstrates how to use the `OPSIN` class from the `provesid` package to convert IUPAC names to SMILES, InChI, and InChI keys.\n",
    "\n",
    "OPSIN was developed at the University of Cambridge and provides a reliable service for converting systematic chemical names to molecular representations."
   ]
  },
  {
   "cell_type": "code",
   "execution_count": 1,
   "id": "755bcfda",
   "metadata": {},
   "outputs": [
    {
     "name": "stdout",
     "output_type": "stream",
     "text": [
      "OPSIN initialized successfully!\n",
      "Base URL: https://opsin.ch.cam.ac.uk/opsin/\n"
     ]
    }
   ],
   "source": [
    "from provesid import OPSIN\n",
    "opsin = OPSIN()\n",
    "print(\"OPSIN initialized successfully!\")\n",
    "print(f\"Base URL: {opsin.base_url}\")"
   ]
  },
  {
   "cell_type": "markdown",
   "id": "0b985ee6",
   "metadata": {},
   "source": [
    "## 1. Basic Name-to-Structure Conversion\n",
    "\n",
    "The primary function of OPSIN is to convert IUPAC chemical names into molecular representations. Let's start with some simple examples:"
   ]
  },
  {
   "cell_type": "code",
   "execution_count": 2,
   "id": "e44b0f0e",
   "metadata": {},
   "outputs": [
    {
     "name": "stdout",
     "output_type": "stream",
     "text": [
      "Methane:\n",
      "  Status: SUCCESS\n",
      "  SMILES: C\n",
      "  InChI: InChI=1/CH4/h1H4\n",
      "  Standard InChI: InChI=1S/CH4/h1H4\n",
      "  InChI Key: VNWKTOKETHGBQD-UHFFFAOYSA-N\n"
     ]
    }
   ],
   "source": [
    "# Convert a simple IUPAC name to structure\n",
    "methane_result = opsin.get_id(\"methane\")\n",
    "print(\"Methane:\")\n",
    "print(f\"  Status: {methane_result['status']}\")\n",
    "print(f\"  SMILES: {methane_result['smiles']}\")\n",
    "print(f\"  InChI: {methane_result['inchi']}\")\n",
    "print(f\"  Standard InChI: {methane_result['stdinchi']}\")\n",
    "print(f\"  InChI Key: {methane_result['stdinchikey']}\")"
   ]
  },
  {
   "cell_type": "code",
   "execution_count": 3,
   "id": "6e235763",
   "metadata": {},
   "outputs": [
    {
     "data": {
      "text/plain": [
       "{'status': 'SUCCESS',\n",
       " 'message': '',\n",
       " 'inchi': 'InChI=1/CH4/h1H4',\n",
       " 'stdinchi': 'InChI=1S/CH4/h1H4',\n",
       " 'stdinchikey': 'VNWKTOKETHGBQD-UHFFFAOYSA-N',\n",
       " 'smiles': 'C'}"
      ]
     },
     "execution_count": 3,
     "metadata": {},
     "output_type": "execute_result"
    }
   ],
   "source": [
    "methane_result"
   ]
  },
  {
   "cell_type": "code",
   "execution_count": 4,
   "id": "582bd26c",
   "metadata": {},
   "outputs": [
    {
     "name": "stdout",
     "output_type": "stream",
     "text": [
      "Ethanol:\n",
      "  Status: SUCCESS\n",
      "  SMILES: C(C)O\n",
      "  InChI: InChI=1/C2H6O/c1-2-3/h3H,2H2,1H3\n",
      "  InChI Key: LFQSCWFLJHTTHZ-UHFFFAOYSA-N\n"
     ]
    }
   ],
   "source": [
    "# Convert ethanol\n",
    "ethanol_result = opsin.get_id(\"ethanol\")\n",
    "print(\"Ethanol:\")\n",
    "print(f\"  Status: {ethanol_result['status']}\")\n",
    "print(f\"  SMILES: {ethanol_result['smiles']}\")\n",
    "print(f\"  InChI: {ethanol_result['inchi']}\")\n",
    "print(f\"  InChI Key: {ethanol_result['stdinchikey']}\")"
   ]
  },
  {
   "cell_type": "markdown",
   "id": "7d8f7359",
   "metadata": {},
   "source": [
    "## 2. Complex IUPAC Names\n",
    "\n",
    "OPSIN excels at parsing complex systematic IUPAC names. Let's try some more challenging examples:"
   ]
  },
  {
   "cell_type": "code",
   "execution_count": 5,
   "id": "e1a7d37b",
   "metadata": {},
   "outputs": [
    {
     "name": "stdout",
     "output_type": "stream",
     "text": [
      "'2-acetoxybenzoic acid':\n",
      "  Status: SUCCESS\n",
      "  SMILES: C(C)(=O)OC1=C(C(=O)O)C=CC=C1\n",
      "  InChI Key: BSYNRYMUTXBXSQ-UHFFFAOYSA-N\n"
     ]
    }
   ],
   "source": [
    "# Convert a more complex name\n",
    "aspirin_name = \"2-acetoxybenzoic acid\"\n",
    "aspirin_result = opsin.get_id(aspirin_name)\n",
    "print(f\"'{aspirin_name}':\")\n",
    "print(f\"  Status: {aspirin_result['status']}\")\n",
    "print(f\"  SMILES: {aspirin_result['smiles']}\")\n",
    "print(f\"  InChI Key: {aspirin_result['stdinchikey']}\")"
   ]
  },
  {
   "cell_type": "code",
   "execution_count": 6,
   "id": "5dbcab8a",
   "metadata": {},
   "outputs": [
    {
     "name": "stdout",
     "output_type": "stream",
     "text": [
      "'1,3,7-trimethylpurine-2,6-dione':\n",
      "  Status: SUCCESS\n",
      "  SMILES: CN1C(N(C=2N=CN(C2C1=O)C)C)=O\n",
      "  InChI Key: RYYVLZVUVIJVGH-UHFFFAOYSA-N\n"
     ]
    }
   ],
   "source": [
    "# Convert a systematic name for caffeine\n",
    "caffeine_name = \"1,3,7-trimethylpurine-2,6-dione\"\n",
    "caffeine_result = opsin.get_id(caffeine_name)\n",
    "print(f\"'{caffeine_name}':\")\n",
    "print(f\"  Status: {caffeine_result['status']}\")\n",
    "print(f\"  SMILES: {caffeine_result['smiles']}\")\n",
    "print(f\"  InChI Key: {caffeine_result['stdinchikey']}\")"
   ]
  },
  {
   "cell_type": "code",
   "execution_count": 7,
   "id": "a67663f8",
   "metadata": {},
   "outputs": [
    {
     "name": "stdout",
     "output_type": "stream",
     "text": [
      "'2-phenylethyl acetate':\n",
      "  Status: SUCCESS\n",
      "  SMILES: C(C)(=O)OCCC1=CC=CC=C1\n",
      "  InChI: InChI=1/C10H12O2/c1-9(11)12-8-7-10-5-3-2-4-6-10/h2-6H,7-8H2,1H3\n"
     ]
    }
   ],
   "source": [
    "# Convert a complex organic molecule\n",
    "complex_name = \"2-phenylethyl acetate\"\n",
    "complex_result = opsin.get_id(complex_name)\n",
    "print(f\"'{complex_name}':\")\n",
    "print(f\"  Status: {complex_result['status']}\")\n",
    "print(f\"  SMILES: {complex_result['smiles']}\")\n",
    "print(f\"  InChI: {complex_result['inchi']}\")"
   ]
  },
  {
   "cell_type": "markdown",
   "id": "185f7a10",
   "metadata": {},
   "source": [
    "## 3. Batch Processing\n",
    "\n",
    "OPSIN provides a convenient method to process multiple chemical names at once:"
   ]
  },
  {
   "cell_type": "code",
   "execution_count": 8,
   "id": "9437899d",
   "metadata": {},
   "outputs": [
    {
     "name": "stdout",
     "output_type": "stream",
     "text": [
      "Processing multiple IUPAC names:\n",
      "\n",
      "1. benzene:\n",
      "   Status: SUCCESS\n",
      "   SMILES: C1=CC=CC=C1\n",
      "   InChI Key: UHOVQNZJYSORNB-UHFFFAOYSA-N\n",
      "\n",
      "2. toluene:\n",
      "   Status: SUCCESS\n",
      "   SMILES: CC1=CC=CC=C1\n",
      "   InChI Key: YXFVVABEGXRONW-UHFFFAOYSA-N\n",
      "\n",
      "3. phenol:\n",
      "   Status: SUCCESS\n",
      "   SMILES: C1(=CC=CC=C1)O\n",
      "   InChI Key: ISWSIDIOOBJBQZ-UHFFFAOYSA-N\n",
      "\n",
      "4. aniline:\n",
      "   Status: SUCCESS\n",
      "   SMILES: NC1=CC=CC=C1\n",
      "   InChI Key: PAYRUJLWNCNPSJ-UHFFFAOYSA-N\n",
      "\n",
      "5. benzoic acid:\n",
      "   Status: SUCCESS\n",
      "   SMILES: C(C1=CC=CC=C1)(=O)O\n",
      "   InChI Key: WPYMKLBDIGXBTP-UHFFFAOYSA-N\n"
     ]
    }
   ],
   "source": [
    "# Process a list of IUPAC names\n",
    "iupac_names = [\n",
    "    \"benzene\",\n",
    "    \"toluene\", \n",
    "    \"phenol\",\n",
    "    \"aniline\",\n",
    "    \"benzoic acid\"\n",
    "]\n",
    "\n",
    "print(\"Processing multiple IUPAC names:\")\n",
    "results = opsin.get_id_from_list(iupac_names)\n",
    "\n",
    "for i, result in enumerate(results):\n",
    "    name = iupac_names[i]\n",
    "    print(f\"\\n{i+1}. {name}:\")\n",
    "    print(f\"   Status: {result['status']}\")\n",
    "    if result['status'] == 'SUCCESS':\n",
    "        print(f\"   SMILES: {result['smiles']}\")\n",
    "        print(f\"   InChI Key: {result['stdinchikey']}\")\n",
    "    else:\n",
    "        print(f\"   Error: Could not parse '{name}'\")"
   ]
  },
  {
   "cell_type": "markdown",
   "id": "a6500208",
   "metadata": {},
   "source": [
    "## 4. Error Handling\n",
    "\n",
    "OPSIN handles various types of input errors gracefully. Let's see how it responds to invalid or ambiguous names:"
   ]
  },
  {
   "cell_type": "code",
   "execution_count": 9,
   "id": "7ed085bf",
   "metadata": {},
   "outputs": [
    {
     "name": "stdout",
     "output_type": "stream",
     "text": [
      "Invalid name 'notarealchemicalname':\n",
      "  Status: FAILURE\n",
      "  SMILES: \n",
      "\n",
      "Empty string:\n",
      "  Status: FAILURE\n",
      "\n",
      "Common name 'table salt' (not IUPAC):\n",
      "  Status: FAILURE\n"
     ]
    }
   ],
   "source": [
    "# Try an invalid chemical name\n",
    "invalid_result = opsin.get_id(\"notarealchemicalname\")\n",
    "print(\"Invalid name 'notarealchemicalname':\")\n",
    "print(f\"  Status: {invalid_result['status']}\")\n",
    "print(f\"  SMILES: {invalid_result['smiles']}\")\n",
    "\n",
    "# Try an empty string\n",
    "empty_result = opsin.get_id(\"\")\n",
    "print(\"\\nEmpty string:\")\n",
    "print(f\"  Status: {empty_result['status']}\")\n",
    "\n",
    "# Try a common name that might not be recognized\n",
    "common_name_result = opsin.get_id(\"table salt\")\n",
    "print(\"\\nCommon name 'table salt' (not IUPAC):\")\n",
    "print(f\"  Status: {common_name_result['status']}\")"
   ]
  },
  {
   "cell_type": "markdown",
   "id": "93ce470f",
   "metadata": {},
   "source": [
    "## 5. Comparing Systematic vs Common Names\n",
    "\n",
    "OPSIN works best with systematic IUPAC names. Let's compare results for systematic vs common names:"
   ]
  },
  {
   "cell_type": "code",
   "execution_count": 10,
   "id": "0a8ea766",
   "metadata": {},
   "outputs": [
    {
     "name": "stdout",
     "output_type": "stream",
     "text": [
      "Comparing systematic vs common names:\n",
      "\n",
      "acetone (systematic):\n",
      "  Name: 'propan-2-ol' (systematic)\n",
      "  Status: SUCCESS\n",
      "  SMILES: CC(C)O\n",
      "\n",
      "acetone (common name):\n",
      "  Name: 'isopropanol' (common)\n",
      "  Status: SUCCESS\n",
      "  SMILES: C(C)(C)O\n",
      "\n",
      "acetone (systematic):\n",
      "  Name: 'propanone' (systematic)\n",
      "  Status: SUCCESS\n",
      "  SMILES: CC(C)=O\n",
      "\n",
      "acetone (common name):\n",
      "  Name: 'acetone' (common)\n",
      "  Status: SUCCESS\n",
      "  SMILES: CC(=O)C\n"
     ]
    }
   ],
   "source": [
    "# Compare systematic vs common names\n",
    "test_cases = [\n",
    "    (\"systematic\", \"propan-2-ol\", \"acetone (systematic)\"),\n",
    "    (\"common\", \"isopropanol\", \"acetone (common name)\"),\n",
    "    (\"systematic\", \"propanone\", \"acetone (systematic)\"),\n",
    "    (\"common\", \"acetone\", \"acetone (common name)\")\n",
    "]\n",
    "\n",
    "print(\"Comparing systematic vs common names:\")\n",
    "for name_type, name, description in test_cases:\n",
    "    result = opsin.get_id(name)\n",
    "    print(f\"\\n{description}:\")\n",
    "    print(f\"  Name: '{name}' ({name_type})\")\n",
    "    print(f\"  Status: {result['status']}\")\n",
    "    if result['status'] == 'SUCCESS':\n",
    "        print(f\"  SMILES: {result['smiles']}\")"
   ]
  },
  {
   "cell_type": "markdown",
   "id": "882e50ec",
   "metadata": {},
   "source": [
    "## 6. Practical Applications\n",
    "\n",
    "Here are some practical use cases for the OPSIN class:"
   ]
  },
  {
   "cell_type": "code",
   "execution_count": 11,
   "id": "d504c923",
   "metadata": {},
   "outputs": [
    {
     "name": "stdout",
     "output_type": "stream",
     "text": [
      "IUPAC to SMILES conversion results:\n",
      "  hexane: CCCCCC\n",
      "  cyclohexane: C1CCCCC1\n",
      "  benzene: C1=CC=CC=C1\n",
      "  invalid_name: None\n"
     ]
    }
   ],
   "source": [
    "# Use case 1: Convert IUPAC names to SMILES for database storage\n",
    "def name_to_smiles_converter(iupac_names):\n",
    "    \"\"\"Convert a list of IUPAC names to SMILES\"\"\"\n",
    "    results = []\n",
    "    for name in iupac_names:\n",
    "        result = opsin.get_id(name)\n",
    "        if result['status'] == 'SUCCESS':\n",
    "            results.append({\n",
    "                'name': name,\n",
    "                'smiles': result['smiles'],\n",
    "                'inchi_key': result['stdinchikey']\n",
    "            })\n",
    "        else:\n",
    "            results.append({\n",
    "                'name': name,\n",
    "                'smiles': None,\n",
    "                'inchi_key': None,\n",
    "                'error': 'Failed to parse'\n",
    "            })\n",
    "    return results\n",
    "\n",
    "# Test the converter\n",
    "test_names = [\"hexane\", \"cyclohexane\", \"benzene\", \"invalid_name\"]\n",
    "converted = name_to_smiles_converter(test_names)\n",
    "\n",
    "print(\"IUPAC to SMILES conversion results:\")\n",
    "for item in converted:\n",
    "    print(f\"  {item['name']}: {item['smiles']}\")"
   ]
  },
  {
   "cell_type": "code",
   "execution_count": 12,
   "id": "ff4f6be3",
   "metadata": {},
   "outputs": [
    {
     "name": "stdout",
     "output_type": "stream",
     "text": [
      "IUPAC Name Validation:\n",
      "✅ Valid names (6): ['methane', 'ethanol', 'propanoic acid', 'water', 'benzene', 'toluene']\n",
      "❌ Invalid names (1): ['H2O']\n"
     ]
    }
   ],
   "source": [
    "# Use case 2: Validate IUPAC names\n",
    "def validate_iupac_names(names_list):\n",
    "    \"\"\"Check which names in a list are valid IUPAC names\"\"\"\n",
    "    valid_names = []\n",
    "    invalid_names = []\n",
    "    \n",
    "    for name in names_list:\n",
    "        result = opsin.get_id(name)\n",
    "        if result['status'] == 'SUCCESS':\n",
    "            valid_names.append(name)\n",
    "        else:\n",
    "            invalid_names.append(name)\n",
    "    \n",
    "    return valid_names, invalid_names\n",
    "\n",
    "# Test validation\n",
    "test_names = [\n",
    "    \"methane\",\n",
    "    \"ethanol\", \n",
    "    \"propanoic acid\",\n",
    "    \"water\",  # Common name, might not work\n",
    "    \"H2O\",    # Formula, not IUPAC\n",
    "    \"benzene\",\n",
    "    \"toluene\"\n",
    "]\n",
    "\n",
    "valid, invalid = validate_iupac_names(test_names)\n",
    "print(\"IUPAC Name Validation:\")\n",
    "print(f\"✅ Valid names ({len(valid)}): {valid}\")\n",
    "print(f\"❌ Invalid names ({len(invalid)}): {invalid}\")"
   ]
  },
  {
   "cell_type": "code",
   "execution_count": 13,
   "id": "b98b20a8",
   "metadata": {},
   "outputs": [
    {
     "name": "stdout",
     "output_type": "stream",
     "text": [
      "Pharmaceutical compound identifiers:\n",
      "\n",
      "2-acetoxybenzoic acid:\n",
      "  SMILES: C(C)(=O)OC1=C(C(=O)O)C=CC=C1\n",
      "  InChI Key: BSYNRYMUTXBXSQ-UHFFFAOYSA-N\n",
      "\n",
      "N-(4-hydroxyphenyl)acetamide:\n",
      "  SMILES: OC1=CC=C(C=C1)NC(C)=O\n",
      "  InChI Key: RZVAJINKPMORJF-UHFFFAOYSA-N\n",
      "\n",
      "2-phenylpropionic acid:\n",
      "  SMILES: C1(=CC=CC=C1)C(C(=O)O)C\n",
      "  InChI Key: YPGCWEMNNLXISK-UHFFFAOYSA-N\n"
     ]
    }
   ],
   "source": [
    "# Use case 3: Generate molecular identifiers for a compound database\n",
    "def generate_molecular_identifiers(compound_name):\n",
    "    \"\"\"Generate complete molecular identifiers for a compound\"\"\"\n",
    "    result = opsin.get_id(compound_name)\n",
    "    \n",
    "    if result['status'] == 'SUCCESS':\n",
    "        return {\n",
    "            'iupac_name': compound_name,\n",
    "            'smiles': result['smiles'],\n",
    "            'inchi': result['inchi'],\n",
    "            'standard_inchi': result['stdinchi'],\n",
    "            'inchi_key': result['stdinchikey'],\n",
    "            'status': 'success'\n",
    "        }\n",
    "    else:\n",
    "        return {\n",
    "            'iupac_name': compound_name,\n",
    "            'status': 'failed',\n",
    "            'error': 'Could not parse IUPAC name'\n",
    "        }\n",
    "\n",
    "# Example: Create identifiers for pharmaceutical compounds\n",
    "pharmaceutical_names = [\n",
    "    \"2-acetoxybenzoic acid\",  # Aspirin\n",
    "    \"N-(4-hydroxyphenyl)acetamide\",  # Paracetamol/Acetaminophen\n",
    "    \"2-phenylpropionic acid\"  # Ibuprofen (simplified name)\n",
    "]\n",
    "\n",
    "print(\"Pharmaceutical compound identifiers:\")\n",
    "for name in pharmaceutical_names:\n",
    "    identifiers = generate_molecular_identifiers(name)\n",
    "    print(f\"\\n{name}:\")\n",
    "    if identifiers['status'] == 'success':\n",
    "        print(f\"  SMILES: {identifiers['smiles']}\")\n",
    "        print(f\"  InChI Key: {identifiers['inchi_key']}\")\n",
    "    else:\n",
    "        print(f\"  Error: {identifiers['error']}\")"
   ]
  },
  {
   "cell_type": "markdown",
   "id": "2b61927e",
   "metadata": {},
   "source": [
    "## 7. Performance Considerations\n",
    "\n",
    "When processing multiple compounds, OPSIN includes built-in rate limiting to be respectful to the service:"
   ]
  },
  {
   "cell_type": "code",
   "execution_count": 14,
   "id": "5be009ed",
   "metadata": {},
   "outputs": [
    {
     "name": "stdout",
     "output_type": "stream",
     "text": [
      "Processing 10 compounds with default pause (0.5s between requests):\n",
      "\n",
      "Results:\n",
      "  Total compounds: 10\n",
      "  Successful conversions: 10\n",
      "  Failed conversions: 0\n",
      "  Total time: 13.67 seconds\n",
      "  Average time per compound: 1.37 seconds\n"
     ]
    }
   ],
   "source": [
    "import time\n",
    "\n",
    "# Demonstrate batch processing with timing\n",
    "large_compound_list = [\n",
    "    \"methane\", \"ethane\", \"propane\", \"butane\", \"pentane\",\n",
    "    \"hexane\", \"heptane\", \"octane\", \"nonane\", \"decane\"\n",
    "]\n",
    "\n",
    "print(\"Processing 10 compounds with default pause (0.5s between requests):\")\n",
    "start_time = time.time()\n",
    "results = opsin.get_id_from_list(large_compound_list)\n",
    "end_time = time.time()\n",
    "\n",
    "successful = sum(1 for r in results if r['status'] == 'SUCCESS')\n",
    "print(f\"\\nResults:\")\n",
    "print(f\"  Total compounds: {len(large_compound_list)}\")\n",
    "print(f\"  Successful conversions: {successful}\")\n",
    "print(f\"  Failed conversions: {len(results) - successful}\")\n",
    "print(f\"  Total time: {end_time - start_time:.2f} seconds\")\n",
    "print(f\"  Average time per compound: {(end_time - start_time)/len(large_compound_list):.2f} seconds\")"
   ]
  },
  {
   "cell_type": "markdown",
   "id": "62d18b9d",
   "metadata": {},
   "source": [
    "## Summary\n",
    "\n",
    "The `OPSIN` class provides two main methods:\n",
    "\n",
    "1. **`get_id(iupac_name)`**: Convert a single IUPAC name to molecular identifiers\n",
    "2. **`get_id_from_list(iupac_names)`**: Convert multiple IUPAC names with built-in rate limiting\n",
    "\n",
    "### Key Features:\n",
    "- ✅ **Systematic IUPAC name parsing**: Converts complex chemical names to structures\n",
    "- ✅ **Multiple output formats**: SMILES, InChI, Standard InChI, InChI Key\n",
    "- ✅ **Batch processing**: Handle multiple compounds efficiently\n",
    "- ✅ **Error handling**: Graceful handling of invalid names\n",
    "- ✅ **Rate limiting**: Built-in delays for batch processing\n",
    "- ✅ **Free service**: No API key required\n",
    "\n",
    "### Returned Data:\n",
    "- **SMILES**: Simplified molecular-input line-entry system\n",
    "- **InChI**: International Chemical Identifier\n",
    "- **Standard InChI**: Standardized version of InChI\n",
    "- **InChI Key**: Fixed-length hash of InChI\n",
    "- **Status**: SUCCESS/FAILURE indication\n",
    "\n",
    "### Best Practices:\n",
    "1. Use systematic IUPAC names for best results\n",
    "2. Handle failures gracefully (some names may not be recognized)\n",
    "3. Use batch processing for multiple compounds\n",
    "4. Respect rate limits when making many requests\n",
    "5. Validate results before using in downstream applications\n",
    "\n",
    "OPSIN is particularly valuable for:\n",
    "- Converting literature chemical names to machine-readable formats\n",
    "- Validating IUPAC nomenclature\n",
    "- Building chemical databases from text sources\n",
    "- Educational applications for learning chemical nomenclature\n",
    "\n",
    "The service is provided by the University of Cambridge and is free to use for academic and commercial applications."
   ]
  }
 ],
 "metadata": {
  "kernelspec": {
   "display_name": "physchem",
   "language": "python",
   "name": "python3"
  },
  "language_info": {
   "codemirror_mode": {
    "name": "ipython",
    "version": 3
   },
   "file_extension": ".py",
   "mimetype": "text/x-python",
   "name": "python",
   "nbconvert_exporter": "python",
   "pygments_lexer": "ipython3",
   "version": "3.11.9"
  }
 },
 "nbformat": 4,
 "nbformat_minor": 5
}
