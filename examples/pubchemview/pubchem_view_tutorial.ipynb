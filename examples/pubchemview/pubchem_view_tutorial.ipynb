{
 "cells": [
  {
   "cell_type": "markdown",
   "id": "72190cc9",
   "metadata": {},
   "source": [
    "# PubChem View tutorial\n",
    "This package, as far as I know, is the only one that implements the PubChem View for downloading, i.e. experimental data for different compounds from PubChem. The available parameters are [available here](https://pubchem.ncbi.nlm.nih.gov/classification/#hid=72)."
   ]
  },
  {
   "cell_type": "code",
   "execution_count": 2,
   "id": "69511e7d",
   "metadata": {},
   "outputs": [],
   "source": [
    "from provesid import (\n",
    "    PubChemView, \n",
    "    PropertyData, \n",
    "    PubChemViewError, \n",
    "    PubChemViewNotFoundError,\n",
    "    get_experimental_property,\n",
    "    get_all_experimental_properties,\n",
    "    get_property_values_only,\n",
    "    get_property_table\n",
    ")"
   ]
  },
  {
   "cell_type": "code",
   "execution_count": 3,
   "id": "fbe4a5fc",
   "metadata": {},
   "outputs": [
    {
     "name": "stdout",
     "output_type": "stream",
     "text": [
      "Working with Aspirin (CID: 2244)\n"
     ]
    }
   ],
   "source": [
    "# Initialize PubChemView with default settings\n",
    "pugview = PubChemView()\n",
    "\n",
    "# Let's start with a simple example - getting experimental data for aspirin (CID: 2244)\n",
    "aspirin_cid = 2244\n",
    "print(f\"Working with Aspirin (CID: {aspirin_cid})\")"
   ]
  },
  {
   "cell_type": "markdown",
   "id": "a67450b7",
   "metadata": {},
   "source": [
    "## What is PubChemView?\n",
    "\n",
    "PubChemView provides access to experimental and computed properties for chemical compounds from PubChem. Unlike the regular PubChem API that gives you basic compound information, PubChemView specializes in:\n",
    "\n",
    "- **Experimental Properties**: Real laboratory measurements (melting points, boiling points, density, etc.)\n",
    "- **Physical Properties**: Computed or literature values\n",
    "- **Biological Activities**: Toxicity data, bioactivity information\n",
    "- **Environmental Data**: Fate and transport properties\n",
    "\n",
    "This makes it invaluable for toxicology, environmental science, and chemical safety assessments."
   ]
  },
  {
   "cell_type": "markdown",
   "id": "cad89843",
   "metadata": {},
   "source": [
    "## Basic Property Retrieval\n",
    "\n",
    "Let's start by getting some basic experimental properties for aspirin."
   ]
  },
  {
   "cell_type": "code",
   "execution_count": 4,
   "id": "40e9f3e6",
   "metadata": {},
   "outputs": [
    {
     "name": "stdout",
     "output_type": "stream",
     "text": [
      "Melting Point Data for Aspirin:\n",
      "  Value: 275 °F (NTP, 1992)\n",
      "  Unit: None\n",
      "  Reference: National Toxicology Program, Institute of Environmental Health Sciences, National Institutes of Health (NTP). 1992. National Toxicology Program Chemical Repository Database. Research Triangle Park, North Carolina.\n",
      "  ---\n",
      "  Value: 138-140\n",
      "  Unit: None\n",
      "  Reference: http://www.rsc.org/learn-chemistry/content/filerepository/CMP/00/000/045/Aspirin.pdf\n",
      "  ---\n",
      "  Value: 135 °C (rapid heating)\n",
      "  Unit: °C\n",
      "  Reference: O'Neil, M.J. (ed.). The Merck Index - An Encyclopedia of Chemicals, Drugs, and Biologicals. Whitehouse Station, NJ:  Merck and Co., Inc., 2006., p. 140\n",
      "  ---\n"
     ]
    }
   ],
   "source": [
    "# Get melting point data for aspirin\n",
    "melting_point_data = pugview.extract_property_data(aspirin_cid, \"Melting Point\")\n",
    "\n",
    "if melting_point_data:\n",
    "    print(\"Melting Point Data for Aspirin:\")\n",
    "    for entry in melting_point_data[:3]:  # Show first 3 entries\n",
    "        print(f\"  Value: {entry.value}\")\n",
    "        print(f\"  Unit: {entry.unit}\")\n",
    "        print(f\"  Reference: {entry.reference}\")\n",
    "        print(\"  ---\")\n",
    "else:\n",
    "    print(\"No melting point data found\")"
   ]
  },
  {
   "cell_type": "code",
   "execution_count": 5,
   "id": "5ad344c0",
   "metadata": {},
   "outputs": [
    {
     "name": "stdout",
     "output_type": "stream",
     "text": [
      "Multiple Properties for Aspirin:\n",
      "========================================\n",
      "\n",
      "Boiling Point:\n",
      "  Value: 284 °F at 760 mmHg (decomposes) (NTP, 1992)\n",
      "  Unit: mmHg\n",
      "\n",
      "Boiling Point: Error - 'PropertyData' object has no attribute 'source'\n",
      "\n",
      "Boiling Point:\n",
      "  Value: 284 °F at 760 mmHg (decomposes) (NTP, 1992)\n",
      "  Unit: mmHg\n",
      "\n",
      "Boiling Point: Error - 'PropertyData' object has no attribute 'source'\n",
      "\n",
      "Density:\n",
      "  Value: 1.4 (NTP, 1992) - Denser than water; will sink\n",
      "  Unit: None\n",
      "\n",
      "Density: Error - 'PropertyData' object has no attribute 'source'\n",
      "\n",
      "Density:\n",
      "  Value: 1.4 (NTP, 1992) - Denser than water; will sink\n",
      "  Unit: None\n",
      "\n",
      "Density: Error - 'PropertyData' object has no attribute 'source'\n",
      "\n",
      "Solubility:\n",
      "  Value: less than 1 mg/mL at 73 °F (NTP, 1992)\n",
      "  Unit: None\n",
      "\n",
      "Solubility: Error - 'PropertyData' object has no attribute 'source'\n",
      "\n",
      "Solubility:\n",
      "  Value: less than 1 mg/mL at 73 °F (NTP, 1992)\n",
      "  Unit: None\n",
      "\n",
      "Solubility: Error - 'PropertyData' object has no attribute 'source'\n"
     ]
    }
   ],
   "source": [
    "# Get multiple properties at once\n",
    "properties_of_interest = [\"Boiling Point\", \"Density\", \"Solubility\"]\n",
    "\n",
    "print(\"Multiple Properties for Aspirin:\")\n",
    "print(\"=\" * 40)\n",
    "\n",
    "for prop_name in properties_of_interest:\n",
    "    try:\n",
    "        data = pugview.extract_property_data(aspirin_cid, prop_name)\n",
    "        if data:\n",
    "            print(f\"\\n{prop_name}:\")\n",
    "            # Show first entry for each property\n",
    "            first_entry = data[0]\n",
    "            print(f\"  Value: {first_entry.value}\")\n",
    "            print(f\"  Unit: {first_entry.unit}\")\n",
    "            print(f\"  Source: {first_entry.source}\")\n",
    "        else:\n",
    "            print(f\"\\n{prop_name}: No data available\")\n",
    "    except Exception as e:\n",
    "        print(f\"\\n{prop_name}: Error - {e}\")"
   ]
  },
  {
   "cell_type": "markdown",
   "id": "eb0bd6ae",
   "metadata": {},
   "source": [
    "## Using Convenience Functions\n",
    "\n",
    "The package provides several convenience functions that make common tasks easier."
   ]
  },
  {
   "cell_type": "code",
   "execution_count": 10,
   "id": "56b5f738",
   "metadata": {},
   "outputs": [
    {
     "name": "stdout",
     "output_type": "stream",
     "text": [
      "=== Quick Property Values ===\n",
      "Melting Point values: ['275 °F (NTP, 1992)', '138-140', '135 °C (rapid heating)']\n",
      "\n",
      "=== All Available Properties ===\n",
      "Available properties: ['Physical Description', 'Color/Form', 'Odor', 'Boiling Point', 'Melting Point', 'Flash Point', 'Solubility', 'Density', 'Vapor Pressure', 'LogP']\n",
      "\n",
      "=== Property Table ===\n",
      "Density table has 5 entries\n"
     ]
    }
   ],
   "source": [
    "# Example 1: Get just the values without metadata\n",
    "print(\"=== Quick Property Values ===\")\n",
    "mp_values = get_property_values_only(aspirin_cid, \"Melting Point\")\n",
    "print(f\"Melting Point values: {mp_values[:3]}\")  # First 3 values\n",
    "\n",
    "# Example 2: Get all experimental properties at once\n",
    "print(\"\\n=== All Available Properties ===\")\n",
    "all_props = get_all_experimental_properties(aspirin_cid)\n",
    "print(f\"Available properties: {list(all_props.keys())[:10]}\")  # First 10 properties\n",
    "\n",
    "# Example 3: Get a property table (structured format)\n",
    "print(\"\\n=== Property Table ===\")\n",
    "prop_table = get_property_table(aspirin_cid, \"Density\")\n",
    "if not prop_table.empty:\n",
    "    print(f\"Density table has {len(prop_table)} entries\")"
   ]
  },
  {
   "cell_type": "markdown",
   "id": "4830f769",
   "metadata": {},
   "source": [
    "## Working with Different Compounds\n",
    "\n",
    "Let's explore data for various common chemicals to see the diversity of available information."
   ]
  },
  {
   "cell_type": "code",
   "execution_count": 11,
   "id": "9b1545de",
   "metadata": {},
   "outputs": [
    {
     "name": "stdout",
     "output_type": "stream",
     "text": [
      "Melting Point Comparison:\n",
      "==================================================\n",
      "Water       : 32 °F\n",
      "Ethanol     : -173.4 °F (NTP, 1992)\n",
      "Caffeine    : 460 °F (NTP, 1992)\n",
      "Benzene     : 41.9 °F (NTP, 1992)\n",
      "Acetone     : -137 °F (NTP, 1992)\n"
     ]
    }
   ],
   "source": [
    "# Define some common compounds\n",
    "compounds = {\n",
    "    \"Water\": 962,\n",
    "    \"Ethanol\": 702,\n",
    "    \"Caffeine\": 2519,\n",
    "    \"Benzene\": 241,\n",
    "    \"Acetone\": 180\n",
    "}\n",
    "\n",
    "# Compare melting points across compounds\n",
    "print(\"Melting Point Comparison:\")\n",
    "print(\"=\" * 50)\n",
    "\n",
    "melting_data = {}\n",
    "for name, cid in compounds.items():\n",
    "    try:\n",
    "        mp_values = get_property_values_only(cid, \"Melting Point\")\n",
    "        if mp_values:\n",
    "            # Get the first numeric value\n",
    "            first_value = mp_values[0] if mp_values else \"No data\"\n",
    "            melting_data[name] = first_value\n",
    "            print(f\"{name:12}: {first_value}\")\n",
    "        else:\n",
    "            print(f\"{name:12}: No data available\")\n",
    "    except Exception as e:\n",
    "        print(f\"{name:12}: Error - {str(e)[:50]}...\")"
   ]
  },
  {
   "cell_type": "markdown",
   "id": "7cb57f34",
   "metadata": {},
   "source": [
    "## Advanced Features\n",
    "\n",
    "### Property Discovery and Batch Processing\n",
    "\n",
    "The PubChemView API offers advanced features for discovering available properties and processing multiple compounds efficiently."
   ]
  },
  {
   "cell_type": "code",
   "execution_count": 12,
   "id": "5acaddae",
   "metadata": {},
   "outputs": [
    {
     "name": "stdout",
     "output_type": "stream",
     "text": [
      "=== Available Properties for Caffeine ===\n",
      "Found 20 properties:\n",
      "   1. Physical Description\n",
      "   2. Color/Form\n",
      "   3. Odor\n",
      "   4. Taste\n",
      "   5. Boiling Point\n",
      "   6. Melting Point\n",
      "   7. Solubility\n",
      "   8. Density\n",
      "   9. Vapor Pressure\n",
      "  10. LogP\n",
      "     ... and 10 more\n",
      "\n",
      "=== Property Summary for Caffeine ===\n",
      "Property: Solubility\n",
      "Total entries: 9\n",
      "Unique values: 0\n",
      "Sources: []\n"
     ]
    }
   ],
   "source": [
    "# Discover available properties for a compound\n",
    "print(\"=== Available Properties for Caffeine ===\")\n",
    "available_props = pugview.get_available_properties(2519)  # Caffeine\n",
    "if available_props:\n",
    "    print(f\"Found {len(available_props)} properties:\")\n",
    "    for i, prop in enumerate(available_props[:10], 1):  # Show first 10\n",
    "        print(f\"  {i:2d}. {prop}\")\n",
    "    if len(available_props) > 10:\n",
    "        print(f\"     ... and {len(available_props) - 10} more\")\n",
    "else:\n",
    "    print(\"No properties found\")\n",
    "\n",
    "# Get property summary for better overview\n",
    "print(f\"\\n=== Property Summary for Caffeine ===\")\n",
    "try:\n",
    "    summary = pugview.get_property_summary(2519, \"Solubility\")\n",
    "    if summary:\n",
    "        print(f\"Property: {summary.get('property', 'Unknown')}\")\n",
    "        print(f\"Total entries: {summary.get('count', 0)}\")\n",
    "        print(f\"Unique values: {len(summary.get('unique_values', []))}\")\n",
    "        print(f\"Sources: {summary.get('sources', [])[:3]}\")  # First 3 sources\n",
    "except Exception as e:\n",
    "    print(f\"Error getting summary: {e}\")"
   ]
  },
  {
   "cell_type": "markdown",
   "id": "a5e47bda",
   "metadata": {},
   "source": [
    "## Data Analysis and Visualization\n",
    "\n",
    "Let's analyze the data we've collected and create some visualizations."
   ]
  },
  {
   "cell_type": "code",
   "execution_count": 13,
   "id": "0fa0af02",
   "metadata": {},
   "outputs": [
    {
     "name": "stdout",
     "output_type": "stream",
     "text": [
      "Property Data Summary:\n",
      "Compound  CID  Melting Point  Boiling Point  Density\n",
      "   Water  962           32.0          212.0    1.000\n",
      " Ethanol  702         -173.4          173.3    0.790\n",
      "Caffeine 2519          460.0          352.0    1.230\n",
      " Benzene  241           41.9          176.2    0.879\n",
      " Acetone  180         -137.0          133.0    0.791\n"
     ]
    }
   ],
   "source": [
    "import pandas as pd\n",
    "import matplotlib.pyplot as plt\n",
    "\n",
    "# Create a comprehensive property comparison\n",
    "property_data = []\n",
    "\n",
    "for compound_name, cid in compounds.items():\n",
    "    try:\n",
    "        # Get multiple properties for analysis\n",
    "        properties_to_check = [\"Melting Point\", \"Boiling Point\", \"Density\"]\n",
    "        \n",
    "        compound_props = {\"Compound\": compound_name, \"CID\": cid}\n",
    "        \n",
    "        for prop in properties_to_check:\n",
    "            try:\n",
    "                values = get_property_values_only(cid, prop)\n",
    "                if values:\n",
    "                    # Try to extract numeric value\n",
    "                    first_val = str(values[0])\n",
    "                    # Simple extraction of first number\n",
    "                    import re\n",
    "                    numbers = re.findall(r'-?\\d+\\.?\\d*', first_val)\n",
    "                    if numbers:\n",
    "                        compound_props[prop] = float(numbers[0])\n",
    "                    else:\n",
    "                        compound_props[prop] = None\n",
    "                else:\n",
    "                    compound_props[prop] = None\n",
    "            except:\n",
    "                compound_props[prop] = None\n",
    "        \n",
    "        property_data.append(compound_props)\n",
    "        \n",
    "    except Exception as e:\n",
    "        print(f\"Error processing {compound_name}: {e}\")\n",
    "\n",
    "# Create DataFrame for analysis\n",
    "df = pd.DataFrame(property_data)\n",
    "print(\"Property Data Summary:\")\n",
    "print(df.to_string(index=False))"
   ]
  },
  {
   "cell_type": "code",
   "execution_count": 14,
   "id": "e3ed3e2c",
   "metadata": {},
   "outputs": [
    {
     "data": {
      "image/png": "[encoded data removed]",
      "text/plain": [
       "<Figure size 1500x500 with 2 Axes>"
      ]
     },
     "metadata": {},
     "output_type": "display_data"
    }
   ],
   "source": [
    "# Create visualizations\n",
    "fig, axes = plt.subplots(1, 2, figsize=(15, 5))\n",
    "\n",
    "# Plot 1: Melting Points\n",
    "mp_data = df[df['Melting Point'].notna()]\n",
    "if not mp_data.empty:\n",
    "    axes[0].bar(mp_data['Compound'], mp_data['Melting Point'])\n",
    "    axes[0].set_title('Melting Points of Compounds')\n",
    "    axes[0].set_ylabel('Temperature (°C)')\n",
    "    axes[0].tick_params(axis='x', rotation=45)\n",
    "else:\n",
    "    axes[0].text(0.5, 0.5, 'No melting point data available', \n",
    "                ha='center', va='center', transform=axes[0].transAxes)\n",
    "    axes[0].set_title('Melting Points (No Data)')\n",
    "\n",
    "# Plot 2: Density vs Melting Point correlation\n",
    "valid_data = df.dropna(subset=['Density', 'Melting Point'])\n",
    "if len(valid_data) > 1:\n",
    "    axes[1].scatter(valid_data['Density'], valid_data['Melting Point'])\n",
    "    for i, row in valid_data.iterrows():\n",
    "        axes[1].annotate(row['Compound'], \n",
    "                        (row['Density'], row['Melting Point']),\n",
    "                        xytext=(5, 5), textcoords='offset points')\n",
    "    axes[1].set_xlabel('Density (g/cm³)')\n",
    "    axes[1].set_ylabel('Melting Point (°C)')\n",
    "    axes[1].set_title('Density vs Melting Point')\n",
    "else:\n",
    "    axes[1].text(0.5, 0.5, 'Insufficient data for correlation', \n",
    "                ha='center', va='center', transform=axes[1].transAxes)\n",
    "    axes[1].set_title('Density vs Melting Point (Insufficient Data)')\n",
    "\n",
    "plt.tight_layout()\n",
    "plt.show()"
   ]
  },
  {
   "cell_type": "markdown",
   "id": "eed58519",
   "metadata": {},
   "source": [
    "## Error Handling and Best Practices\n",
    "\n",
    "When working with experimental data, it's important to handle missing data and errors gracefully."
   ]
  },
  {
   "cell_type": "code",
   "execution_count": 22,
   "id": "21b05198",
   "metadata": {},
   "outputs": [
    {
     "name": "stdout",
     "output_type": "stream",
     "text": [
      "Error Handling Examples:\n",
      "==================================================\n",
      "\n",
      "CID 2244, Property: Melting Point\n",
      "Success: True\n",
      "Found 7 entries\n",
      "First value: 275 °F (NTP, 1992) None\n",
      "\n",
      "CID 2244, Property: Melting Point\n",
      "Success: True\n",
      "Found 7 entries\n",
      "First value: 275 °F (NTP, 1992) None\n"
     ]
    },
    {
     "name": "stderr",
     "output_type": "stream",
     "text": [
      "Request failed, retrying in 1.0s: 400 Client Error: PUGVIEW.BadRequest for url: https://pubchem.ncbi.nlm.nih.gov/rest/pug_view/data/compound/2244/JSON?heading=NonExistentProperty\n",
      "Request failed, retrying in 2.0s: 400 Client Error: PUGVIEW.BadRequest for url: https://pubchem.ncbi.nlm.nih.gov/rest/pug_view/data/compound/2244/JSON?heading=NonExistentProperty\n",
      "Request failed, retrying in 2.0s: 400 Client Error: PUGVIEW.BadRequest for url: https://pubchem.ncbi.nlm.nih.gov/rest/pug_view/data/compound/2244/JSON?heading=NonExistentProperty\n",
      "Request failed, retrying in 4.0s: 400 Client Error: PUGVIEW.BadRequest for url: https://pubchem.ncbi.nlm.nih.gov/rest/pug_view/data/compound/2244/JSON?heading=NonExistentProperty\n",
      "Request failed, retrying in 4.0s: 400 Client Error: PUGVIEW.BadRequest for url: https://pubchem.ncbi.nlm.nih.gov/rest/pug_view/data/compound/2244/JSON?heading=NonExistentProperty\n"
     ]
    },
    {
     "name": "stdout",
     "output_type": "stream",
     "text": [
      "\n",
      "CID 2244, Property: NonExistentProperty\n",
      "Success: False\n",
      "Error: PubChemView error: Request failed after 4 attempts: 400 Client Error: PUGVIEW.BadRequest for url: https://pubchem.ncbi.nlm.nih.gov/rest/pug_view/data/compound/2244/JSON?heading=NonExistentProperty\n"
     ]
    },
    {
     "name": "stderr",
     "output_type": "stream",
     "text": [
      "Property 'Melting Point' not found for CID 999999999\n"
     ]
    },
    {
     "name": "stdout",
     "output_type": "stream",
     "text": [
      "\n",
      "CID 999999999, Property: Melting Point\n",
      "Success: False\n",
      "Error: No data available\n"
     ]
    }
   ],
   "source": [
    "# Test with various scenarios to demonstrate error handling\n",
    "test_cases = [\n",
    "    (2244, \"Melting Point\"),          # Should work\n",
    "    (2244, \"NonExistentProperty\"),    # Should fail gracefully\n",
    "    (999999999, \"Melting Point\"),     # Invalid CID\n",
    "]\n",
    "\n",
    "print(\"Error Handling Examples:\")\n",
    "print(\"=\" * 50)\n",
    "\n",
    "for cid, prop_name in test_cases:\n",
    "    result = get_property_safely(cid, prop_name)\n",
    "    \n",
    "    print(f\"\\nCID {cid}, Property: {prop_name}\")\n",
    "    print(f\"Success: {result['success']}\")\n",
    "    \n",
    "    if result['success']:\n",
    "        print(f\"Found {result['count']} entries\")\n",
    "        if result['data']:\n",
    "            first_entry = result['data'][0]\n",
    "            print(f\"First value: {first_entry.value} {first_entry.unit}\")\n",
    "    else:\n",
    "        print(f\"Error: {result['error']}\")"
   ]
  },
  {
   "cell_type": "markdown",
   "id": "96275d54",
   "metadata": {},
   "source": [
    "## Practical Applications\n",
    "\n",
    "### Building a Chemical Property Database\n",
    "\n",
    "Let's create a practical example of building a small chemical property database for risk assessment."
   ]
  },
  {
   "cell_type": "code",
   "execution_count": 19,
   "id": "9efb463f",
   "metadata": {},
   "outputs": [
    {
     "name": "stdout",
     "output_type": "stream",
     "text": [
      "Utility function loaded: get_property_safely()\n"
     ]
    }
   ],
   "source": [
    "# Robust property retrieval function\n",
    "def get_property_safely(cid, property_name, max_values=5):\n",
    "    \"\"\"\n",
    "    Safely retrieve property data with comprehensive error handling.\n",
    "    \n",
    "    Args:\n",
    "        cid: Compound ID\n",
    "        property_name: Name of the property to retrieve\n",
    "        max_values: Maximum number of values to return\n",
    "    \n",
    "    Returns:\n",
    "        dict: Contains status, data, and any error messages\n",
    "    \"\"\"\n",
    "    result = {\n",
    "        'cid': cid,\n",
    "        'property': property_name,\n",
    "        'success': False,\n",
    "        'data': [],\n",
    "        'error': None,\n",
    "        'count': 0\n",
    "    }\n",
    "    \n",
    "    try:\n",
    "        # Try to get the property data\n",
    "        data = get_experimental_property(cid, property_name)\n",
    "        \n",
    "        if data:\n",
    "            result['success'] = True\n",
    "            result['data'] = data[:max_values]  # Limit number of entries\n",
    "            result['count'] = len(data)\n",
    "        else:\n",
    "            result['error'] = \"No data available\"\n",
    "            \n",
    "    except PubChemViewNotFoundError:\n",
    "        result['error'] = \"Property not found\"\n",
    "    except PubChemViewError as e:\n",
    "        result['error'] = f\"PubChemView error: {str(e)}\"\n",
    "    except Exception as e:\n",
    "        result['error'] = f\"Unexpected error: {str(e)}\"\n",
    "    \n",
    "    return result\n",
    "\n",
    "print(\"Utility function loaded: get_property_safely()\")"
   ]
  },
  {
   "cell_type": "code",
   "execution_count": 20,
   "id": "5e616843",
   "metadata": {},
   "outputs": [
    {
     "name": "stdout",
     "output_type": "stream",
     "text": [
      "Chemical Safety Database\n",
      "============================================================\n",
      "\n",
      "Processing Acetone (CID: 180)...\n",
      "  ✓ Flash Point: 0 °F (NTP, 1992) None\n",
      "  ✓ Flash Point: 0 °F (NTP, 1992) None\n"
     ]
    },
    {
     "name": "stderr",
     "output_type": "stream",
     "text": [
      "Request failed, retrying in 1.0s: 400 Client Error: PUGVIEW.BadRequest for url: https://pubchem.ncbi.nlm.nih.gov/rest/pug_view/data/compound/180/JSON?heading=Auto-Ignition+Temperature\n",
      "Request failed, retrying in 2.0s: 400 Client Error: PUGVIEW.BadRequest for url: https://pubchem.ncbi.nlm.nih.gov/rest/pug_view/data/compound/180/JSON?heading=Auto-Ignition+Temperature\n",
      "Request failed, retrying in 2.0s: 400 Client Error: PUGVIEW.BadRequest for url: https://pubchem.ncbi.nlm.nih.gov/rest/pug_view/data/compound/180/JSON?heading=Auto-Ignition+Temperature\n",
      "Request failed, retrying in 4.0s: 400 Client Error: PUGVIEW.BadRequest for url: https://pubchem.ncbi.nlm.nih.gov/rest/pug_view/data/compound/180/JSON?heading=Auto-Ignition+Temperature\n",
      "Request failed, retrying in 4.0s: 400 Client Error: PUGVIEW.BadRequest for url: https://pubchem.ncbi.nlm.nih.gov/rest/pug_view/data/compound/180/JSON?heading=Auto-Ignition+Temperature\n"
     ]
    },
    {
     "name": "stdout",
     "output_type": "stream",
     "text": [
      "  ✗ Auto-Ignition Temperature: PubChemView error: Request failed after 4 attempts: 400 Client Error: PUGVIEW.BadRequest for url: https://pubchem.ncbi.nlm.nih.gov/rest/pug_view/data/compound/180/JSON?heading=Auto-Ignition+Temperature\n",
      "  ✓ Vapor Pressure: 180 mmHg at 68 °F ; 270 mmHg at 86 °F (NTP, 1992) mmHg\n",
      "  ✓ Vapor Pressure: 180 mmHg at 68 °F ; 270 mmHg at 86 °F (NTP, 1992) mmHg\n"
     ]
    },
    {
     "name": "stderr",
     "output_type": "stream",
     "text": [
      "Request failed, retrying in 1.0s: 400 Client Error: PUGVIEW.BadRequest for url: https://pubchem.ncbi.nlm.nih.gov/rest/pug_view/data/compound/180/JSON?heading=LC50\n",
      "Request failed, retrying in 2.0s: 400 Client Error: PUGVIEW.BadRequest for url: https://pubchem.ncbi.nlm.nih.gov/rest/pug_view/data/compound/180/JSON?heading=LC50\n",
      "Request failed, retrying in 2.0s: 400 Client Error: PUGVIEW.BadRequest for url: https://pubchem.ncbi.nlm.nih.gov/rest/pug_view/data/compound/180/JSON?heading=LC50\n",
      "Request failed, retrying in 4.0s: 400 Client Error: PUGVIEW.BadRequest for url: https://pubchem.ncbi.nlm.nih.gov/rest/pug_view/data/compound/180/JSON?heading=LC50\n",
      "Request failed, retrying in 4.0s: 400 Client Error: PUGVIEW.BadRequest for url: https://pubchem.ncbi.nlm.nih.gov/rest/pug_view/data/compound/180/JSON?heading=LC50\n"
     ]
    },
    {
     "name": "stdout",
     "output_type": "stream",
     "text": [
      "  ✗ LC50: PubChemView error: Request failed after 4 attempts: 400 Client Error: PUGVIEW.BadRequest for url: https://pubchem.ncbi.nlm.nih.gov/rest/pug_view/data/compound/180/JSON?heading=LC50\n"
     ]
    },
    {
     "name": "stderr",
     "output_type": "stream",
     "text": [
      "Request failed, retrying in 1.0s: 400 Client Error: PUGVIEW.BadRequest for url: https://pubchem.ncbi.nlm.nih.gov/rest/pug_view/data/compound/180/JSON?heading=LD50\n",
      "Request failed, retrying in 2.0s: 400 Client Error: PUGVIEW.BadRequest for url: https://pubchem.ncbi.nlm.nih.gov/rest/pug_view/data/compound/180/JSON?heading=LD50\n",
      "Request failed, retrying in 2.0s: 400 Client Error: PUGVIEW.BadRequest for url: https://pubchem.ncbi.nlm.nih.gov/rest/pug_view/data/compound/180/JSON?heading=LD50\n",
      "Request failed, retrying in 4.0s: 400 Client Error: PUGVIEW.BadRequest for url: https://pubchem.ncbi.nlm.nih.gov/rest/pug_view/data/compound/180/JSON?heading=LD50\n",
      "Request failed, retrying in 4.0s: 400 Client Error: PUGVIEW.BadRequest for url: https://pubchem.ncbi.nlm.nih.gov/rest/pug_view/data/compound/180/JSON?heading=LD50\n"
     ]
    },
    {
     "name": "stdout",
     "output_type": "stream",
     "text": [
      "  ✗ LD50: PubChemView error: Request failed after 4 attempts: 400 Client Error: PUGVIEW.BadRequest for url: https://pubchem.ncbi.nlm.nih.gov/rest/pug_view/data/compound/180/JSON?heading=LD50\n",
      "\n",
      "Processing Ethanol (CID: 702)...\n",
      "  ✓ Flash Point: 55 °F (NTP, 1992) None\n",
      "  ✓ Flash Point: 55 °F (NTP, 1992) None\n"
     ]
    },
    {
     "name": "stderr",
     "output_type": "stream",
     "text": [
      "Request failed, retrying in 1.0s: 400 Client Error: PUGVIEW.BadRequest for url: https://pubchem.ncbi.nlm.nih.gov/rest/pug_view/data/compound/702/JSON?heading=Auto-Ignition+Temperature\n",
      "Request failed, retrying in 2.0s: 400 Client Error: PUGVIEW.BadRequest for url: https://pubchem.ncbi.nlm.nih.gov/rest/pug_view/data/compound/702/JSON?heading=Auto-Ignition+Temperature\n",
      "Request failed, retrying in 2.0s: 400 Client Error: PUGVIEW.BadRequest for url: https://pubchem.ncbi.nlm.nih.gov/rest/pug_view/data/compound/702/JSON?heading=Auto-Ignition+Temperature\n",
      "Request failed, retrying in 4.0s: 400 Client Error: PUGVIEW.BadRequest for url: https://pubchem.ncbi.nlm.nih.gov/rest/pug_view/data/compound/702/JSON?heading=Auto-Ignition+Temperature\n",
      "Request failed, retrying in 4.0s: 400 Client Error: PUGVIEW.BadRequest for url: https://pubchem.ncbi.nlm.nih.gov/rest/pug_view/data/compound/702/JSON?heading=Auto-Ignition+Temperature\n"
     ]
    },
    {
     "name": "stdout",
     "output_type": "stream",
     "text": [
      "  ✗ Auto-Ignition Temperature: PubChemView error: Request failed after 4 attempts: 400 Client Error: PUGVIEW.BadRequest for url: https://pubchem.ncbi.nlm.nih.gov/rest/pug_view/data/compound/702/JSON?heading=Auto-Ignition+Temperature\n",
      "  ✓ Vapor Pressure: 40 mmHg at 66 °F ; 50 mmHg at 77 °F (NTP, 1992) mmHg\n",
      "  ✓ Vapor Pressure: 40 mmHg at 66 °F ; 50 mmHg at 77 °F (NTP, 1992) mmHg\n"
     ]
    },
    {
     "name": "stderr",
     "output_type": "stream",
     "text": [
      "Request failed, retrying in 1.0s: 400 Client Error: PUGVIEW.BadRequest for url: https://pubchem.ncbi.nlm.nih.gov/rest/pug_view/data/compound/702/JSON?heading=LC50\n",
      "Request failed, retrying in 2.0s: 400 Client Error: PUGVIEW.BadRequest for url: https://pubchem.ncbi.nlm.nih.gov/rest/pug_view/data/compound/702/JSON?heading=LC50\n",
      "Request failed, retrying in 2.0s: 400 Client Error: PUGVIEW.BadRequest for url: https://pubchem.ncbi.nlm.nih.gov/rest/pug_view/data/compound/702/JSON?heading=LC50\n",
      "Request failed, retrying in 4.0s: 400 Client Error: PUGVIEW.BadRequest for url: https://pubchem.ncbi.nlm.nih.gov/rest/pug_view/data/compound/702/JSON?heading=LC50\n",
      "Request failed, retrying in 4.0s: 400 Client Error: PUGVIEW.BadRequest for url: https://pubchem.ncbi.nlm.nih.gov/rest/pug_view/data/compound/702/JSON?heading=LC50\n"
     ]
    },
    {
     "name": "stdout",
     "output_type": "stream",
     "text": [
      "  ✗ LC50: PubChemView error: Request failed after 4 attempts: 400 Client Error: PUGVIEW.BadRequest for url: https://pubchem.ncbi.nlm.nih.gov/rest/pug_view/data/compound/702/JSON?heading=LC50\n"
     ]
    },
    {
     "name": "stderr",
     "output_type": "stream",
     "text": [
      "Request failed, retrying in 1.0s: 400 Client Error: PUGVIEW.BadRequest for url: https://pubchem.ncbi.nlm.nih.gov/rest/pug_view/data/compound/702/JSON?heading=LD50\n",
      "Request failed, retrying in 2.0s: 400 Client Error: PUGVIEW.BadRequest for url: https://pubchem.ncbi.nlm.nih.gov/rest/pug_view/data/compound/702/JSON?heading=LD50\n",
      "Request failed, retrying in 2.0s: 400 Client Error: PUGVIEW.BadRequest for url: https://pubchem.ncbi.nlm.nih.gov/rest/pug_view/data/compound/702/JSON?heading=LD50\n",
      "Request failed, retrying in 4.0s: 400 Client Error: PUGVIEW.BadRequest for url: https://pubchem.ncbi.nlm.nih.gov/rest/pug_view/data/compound/702/JSON?heading=LD50\n",
      "Request failed, retrying in 4.0s: 400 Client Error: PUGVIEW.BadRequest for url: https://pubchem.ncbi.nlm.nih.gov/rest/pug_view/data/compound/702/JSON?heading=LD50\n"
     ]
    },
    {
     "name": "stdout",
     "output_type": "stream",
     "text": [
      "  ✗ LD50: PubChemView error: Request failed after 4 attempts: 400 Client Error: PUGVIEW.BadRequest for url: https://pubchem.ncbi.nlm.nih.gov/rest/pug_view/data/compound/702/JSON?heading=LD50\n",
      "\n",
      "Processing Benzene (CID: 241)...\n",
      "  ✓ Flash Point: 12 °F (NTP, 1992) None\n",
      "  ✓ Flash Point: 12 °F (NTP, 1992) None\n"
     ]
    },
    {
     "name": "stderr",
     "output_type": "stream",
     "text": [
      "Request failed, retrying in 1.0s: 400 Client Error: PUGVIEW.BadRequest for url: https://pubchem.ncbi.nlm.nih.gov/rest/pug_view/data/compound/241/JSON?heading=Auto-Ignition+Temperature\n",
      "Request failed, retrying in 2.0s: 400 Client Error: PUGVIEW.BadRequest for url: https://pubchem.ncbi.nlm.nih.gov/rest/pug_view/data/compound/241/JSON?heading=Auto-Ignition+Temperature\n",
      "Request failed, retrying in 2.0s: 400 Client Error: PUGVIEW.BadRequest for url: https://pubchem.ncbi.nlm.nih.gov/rest/pug_view/data/compound/241/JSON?heading=Auto-Ignition+Temperature\n",
      "Request failed, retrying in 4.0s: 400 Client Error: PUGVIEW.BadRequest for url: https://pubchem.ncbi.nlm.nih.gov/rest/pug_view/data/compound/241/JSON?heading=Auto-Ignition+Temperature\n",
      "Request failed, retrying in 4.0s: 400 Client Error: PUGVIEW.BadRequest for url: https://pubchem.ncbi.nlm.nih.gov/rest/pug_view/data/compound/241/JSON?heading=Auto-Ignition+Temperature\n"
     ]
    },
    {
     "name": "stdout",
     "output_type": "stream",
     "text": [
      "  ✗ Auto-Ignition Temperature: PubChemView error: Request failed after 4 attempts: 400 Client Error: PUGVIEW.BadRequest for url: https://pubchem.ncbi.nlm.nih.gov/rest/pug_view/data/compound/241/JSON?heading=Auto-Ignition+Temperature\n",
      "  ✓ Vapor Pressure: 60 mmHg at 59 °F ; 76 mmHg at 68 °F (NTP, 1992) mmHg\n",
      "  ✓ Vapor Pressure: 60 mmHg at 59 °F ; 76 mmHg at 68 °F (NTP, 1992) mmHg\n"
     ]
    },
    {
     "name": "stderr",
     "output_type": "stream",
     "text": [
      "Request failed, retrying in 1.0s: 400 Client Error: PUGVIEW.BadRequest for url: https://pubchem.ncbi.nlm.nih.gov/rest/pug_view/data/compound/241/JSON?heading=LC50\n",
      "Request failed, retrying in 2.0s: 400 Client Error: PUGVIEW.BadRequest for url: https://pubchem.ncbi.nlm.nih.gov/rest/pug_view/data/compound/241/JSON?heading=LC50\n",
      "Request failed, retrying in 2.0s: 400 Client Error: PUGVIEW.BadRequest for url: https://pubchem.ncbi.nlm.nih.gov/rest/pug_view/data/compound/241/JSON?heading=LC50\n",
      "Request failed, retrying in 4.0s: 400 Client Error: PUGVIEW.BadRequest for url: https://pubchem.ncbi.nlm.nih.gov/rest/pug_view/data/compound/241/JSON?heading=LC50\n",
      "Request failed, retrying in 4.0s: 400 Client Error: PUGVIEW.BadRequest for url: https://pubchem.ncbi.nlm.nih.gov/rest/pug_view/data/compound/241/JSON?heading=LC50\n"
     ]
    },
    {
     "name": "stdout",
     "output_type": "stream",
     "text": [
      "  ✗ LC50: PubChemView error: Request failed after 4 attempts: 400 Client Error: PUGVIEW.BadRequest for url: https://pubchem.ncbi.nlm.nih.gov/rest/pug_view/data/compound/241/JSON?heading=LC50\n"
     ]
    },
    {
     "name": "stderr",
     "output_type": "stream",
     "text": [
      "Request failed, retrying in 1.0s: 400 Client Error: PUGVIEW.BadRequest for url: https://pubchem.ncbi.nlm.nih.gov/rest/pug_view/data/compound/241/JSON?heading=LD50\n",
      "Request failed, retrying in 2.0s: 400 Client Error: PUGVIEW.BadRequest for url: https://pubchem.ncbi.nlm.nih.gov/rest/pug_view/data/compound/241/JSON?heading=LD50\n",
      "Request failed, retrying in 2.0s: 400 Client Error: PUGVIEW.BadRequest for url: https://pubchem.ncbi.nlm.nih.gov/rest/pug_view/data/compound/241/JSON?heading=LD50\n",
      "Request failed, retrying in 4.0s: 400 Client Error: PUGVIEW.BadRequest for url: https://pubchem.ncbi.nlm.nih.gov/rest/pug_view/data/compound/241/JSON?heading=LD50\n",
      "Request failed, retrying in 4.0s: 400 Client Error: PUGVIEW.BadRequest for url: https://pubchem.ncbi.nlm.nih.gov/rest/pug_view/data/compound/241/JSON?heading=LD50\n"
     ]
    },
    {
     "name": "stdout",
     "output_type": "stream",
     "text": [
      "  ✗ LD50: PubChemView error: Request failed after 4 attempts: 400 Client Error: PUGVIEW.BadRequest for url: https://pubchem.ncbi.nlm.nih.gov/rest/pug_view/data/compound/241/JSON?heading=LD50\n",
      "\n",
      "Processing Toluene (CID: 1140)...\n",
      "  ✓ Flash Point: 40 °F (NTP, 1992) None\n",
      "  ✓ Flash Point: 40 °F (NTP, 1992) None\n"
     ]
    },
    {
     "name": "stderr",
     "output_type": "stream",
     "text": [
      "Request failed, retrying in 1.0s: 400 Client Error: PUGVIEW.BadRequest for url: https://pubchem.ncbi.nlm.nih.gov/rest/pug_view/data/compound/1140/JSON?heading=Auto-Ignition+Temperature\n",
      "Request failed, retrying in 2.0s: 400 Client Error: PUGVIEW.BadRequest for url: https://pubchem.ncbi.nlm.nih.gov/rest/pug_view/data/compound/1140/JSON?heading=Auto-Ignition+Temperature\n",
      "Request failed, retrying in 2.0s: 400 Client Error: PUGVIEW.BadRequest for url: https://pubchem.ncbi.nlm.nih.gov/rest/pug_view/data/compound/1140/JSON?heading=Auto-Ignition+Temperature\n",
      "Request failed, retrying in 4.0s: 400 Client Error: PUGVIEW.BadRequest for url: https://pubchem.ncbi.nlm.nih.gov/rest/pug_view/data/compound/1140/JSON?heading=Auto-Ignition+Temperature\n",
      "Request failed, retrying in 4.0s: 400 Client Error: PUGVIEW.BadRequest for url: https://pubchem.ncbi.nlm.nih.gov/rest/pug_view/data/compound/1140/JSON?heading=Auto-Ignition+Temperature\n"
     ]
    },
    {
     "name": "stdout",
     "output_type": "stream",
     "text": [
      "  ✗ Auto-Ignition Temperature: PubChemView error: Request failed after 4 attempts: 400 Client Error: PUGVIEW.BadRequest for url: https://pubchem.ncbi.nlm.nih.gov/rest/pug_view/data/compound/1140/JSON?heading=Auto-Ignition+Temperature\n",
      "  ✓ Vapor Pressure: 10 mmHg at 43.5 °F ; 20 mmHg at 65.1 °F; 40 mmHg at 89.2 °F (NTP, 1992) mmHg\n",
      "  ✓ Vapor Pressure: 10 mmHg at 43.5 °F ; 20 mmHg at 65.1 °F; 40 mmHg at 89.2 °F (NTP, 1992) mmHg\n"
     ]
    },
    {
     "name": "stderr",
     "output_type": "stream",
     "text": [
      "Request failed, retrying in 1.0s: 400 Client Error: PUGVIEW.BadRequest for url: https://pubchem.ncbi.nlm.nih.gov/rest/pug_view/data/compound/1140/JSON?heading=LC50\n",
      "Request failed, retrying in 2.0s: 400 Client Error: PUGVIEW.BadRequest for url: https://pubchem.ncbi.nlm.nih.gov/rest/pug_view/data/compound/1140/JSON?heading=LC50\n",
      "Request failed, retrying in 2.0s: 400 Client Error: PUGVIEW.BadRequest for url: https://pubchem.ncbi.nlm.nih.gov/rest/pug_view/data/compound/1140/JSON?heading=LC50\n",
      "Request failed, retrying in 4.0s: 400 Client Error: PUGVIEW.BadRequest for url: https://pubchem.ncbi.nlm.nih.gov/rest/pug_view/data/compound/1140/JSON?heading=LC50\n",
      "Request failed, retrying in 4.0s: 400 Client Error: PUGVIEW.BadRequest for url: https://pubchem.ncbi.nlm.nih.gov/rest/pug_view/data/compound/1140/JSON?heading=LC50\n"
     ]
    },
    {
     "name": "stdout",
     "output_type": "stream",
     "text": [
      "  ✗ LC50: PubChemView error: Request failed after 4 attempts: 400 Client Error: PUGVIEW.BadRequest for url: https://pubchem.ncbi.nlm.nih.gov/rest/pug_view/data/compound/1140/JSON?heading=LC50\n"
     ]
    },
    {
     "name": "stderr",
     "output_type": "stream",
     "text": [
      "Request failed, retrying in 1.0s: 400 Client Error: PUGVIEW.BadRequest for url: https://pubchem.ncbi.nlm.nih.gov/rest/pug_view/data/compound/1140/JSON?heading=LD50\n",
      "Request failed, retrying in 2.0s: 400 Client Error: PUGVIEW.BadRequest for url: https://pubchem.ncbi.nlm.nih.gov/rest/pug_view/data/compound/1140/JSON?heading=LD50\n",
      "Request failed, retrying in 2.0s: 400 Client Error: PUGVIEW.BadRequest for url: https://pubchem.ncbi.nlm.nih.gov/rest/pug_view/data/compound/1140/JSON?heading=LD50\n",
      "Request failed, retrying in 4.0s: 400 Client Error: PUGVIEW.BadRequest for url: https://pubchem.ncbi.nlm.nih.gov/rest/pug_view/data/compound/1140/JSON?heading=LD50\n",
      "Request failed, retrying in 4.0s: 400 Client Error: PUGVIEW.BadRequest for url: https://pubchem.ncbi.nlm.nih.gov/rest/pug_view/data/compound/1140/JSON?heading=LD50\n"
     ]
    },
    {
     "name": "stdout",
     "output_type": "stream",
     "text": [
      "  ✗ LD50: PubChemView error: Request failed after 4 attempts: 400 Client Error: PUGVIEW.BadRequest for url: https://pubchem.ncbi.nlm.nih.gov/rest/pug_view/data/compound/1140/JSON?heading=LD50\n",
      "\n",
      "Processing Methanol (CID: 887)...\n",
      "  ✓ Flash Point: 52 °F (NTP, 1992) None\n",
      "  ✓ Flash Point: 52 °F (NTP, 1992) None\n"
     ]
    },
    {
     "name": "stderr",
     "output_type": "stream",
     "text": [
      "Request failed, retrying in 1.0s: 400 Client Error: PUGVIEW.BadRequest for url: https://pubchem.ncbi.nlm.nih.gov/rest/pug_view/data/compound/887/JSON?heading=Auto-Ignition+Temperature\n",
      "Request failed, retrying in 2.0s: 400 Client Error: PUGVIEW.BadRequest for url: https://pubchem.ncbi.nlm.nih.gov/rest/pug_view/data/compound/887/JSON?heading=Auto-Ignition+Temperature\n",
      "Request failed, retrying in 2.0s: 400 Client Error: PUGVIEW.BadRequest for url: https://pubchem.ncbi.nlm.nih.gov/rest/pug_view/data/compound/887/JSON?heading=Auto-Ignition+Temperature\n",
      "Request failed, retrying in 4.0s: 400 Client Error: PUGVIEW.BadRequest for url: https://pubchem.ncbi.nlm.nih.gov/rest/pug_view/data/compound/887/JSON?heading=Auto-Ignition+Temperature\n",
      "Request failed, retrying in 4.0s: 400 Client Error: PUGVIEW.BadRequest for url: https://pubchem.ncbi.nlm.nih.gov/rest/pug_view/data/compound/887/JSON?heading=Auto-Ignition+Temperature\n"
     ]
    },
    {
     "name": "stdout",
     "output_type": "stream",
     "text": [
      "  ✗ Auto-Ignition Temperature: PubChemView error: Request failed after 4 attempts: 400 Client Error: PUGVIEW.BadRequest for url: https://pubchem.ncbi.nlm.nih.gov/rest/pug_view/data/compound/887/JSON?heading=Auto-Ignition+Temperature\n",
      "  ✓ Vapor Pressure: 100 mmHg at 70.2 °F ; 237.87 mmHg at 100 °F (NTP, 1992) mmHg\n",
      "  ✓ Vapor Pressure: 100 mmHg at 70.2 °F ; 237.87 mmHg at 100 °F (NTP, 1992) mmHg\n"
     ]
    },
    {
     "name": "stderr",
     "output_type": "stream",
     "text": [
      "Request failed, retrying in 1.0s: 400 Client Error: PUGVIEW.BadRequest for url: https://pubchem.ncbi.nlm.nih.gov/rest/pug_view/data/compound/887/JSON?heading=LC50\n",
      "Request failed, retrying in 2.0s: 400 Client Error: PUGVIEW.BadRequest for url: https://pubchem.ncbi.nlm.nih.gov/rest/pug_view/data/compound/887/JSON?heading=LC50\n",
      "Request failed, retrying in 2.0s: 400 Client Error: PUGVIEW.BadRequest for url: https://pubchem.ncbi.nlm.nih.gov/rest/pug_view/data/compound/887/JSON?heading=LC50\n",
      "Request failed, retrying in 4.0s: 400 Client Error: PUGVIEW.BadRequest for url: https://pubchem.ncbi.nlm.nih.gov/rest/pug_view/data/compound/887/JSON?heading=LC50\n",
      "Request failed, retrying in 4.0s: 400 Client Error: PUGVIEW.BadRequest for url: https://pubchem.ncbi.nlm.nih.gov/rest/pug_view/data/compound/887/JSON?heading=LC50\n"
     ]
    },
    {
     "name": "stdout",
     "output_type": "stream",
     "text": [
      "  ✗ LC50: PubChemView error: Request failed after 4 attempts: 400 Client Error: PUGVIEW.BadRequest for url: https://pubchem.ncbi.nlm.nih.gov/rest/pug_view/data/compound/887/JSON?heading=LC50\n"
     ]
    },
    {
     "name": "stderr",
     "output_type": "stream",
     "text": [
      "Request failed, retrying in 1.0s: 400 Client Error: PUGVIEW.BadRequest for url: https://pubchem.ncbi.nlm.nih.gov/rest/pug_view/data/compound/887/JSON?heading=LD50\n",
      "Request failed, retrying in 2.0s: 400 Client Error: PUGVIEW.BadRequest for url: https://pubchem.ncbi.nlm.nih.gov/rest/pug_view/data/compound/887/JSON?heading=LD50\n",
      "Request failed, retrying in 2.0s: 400 Client Error: PUGVIEW.BadRequest for url: https://pubchem.ncbi.nlm.nih.gov/rest/pug_view/data/compound/887/JSON?heading=LD50\n",
      "Request failed, retrying in 4.0s: 400 Client Error: PUGVIEW.BadRequest for url: https://pubchem.ncbi.nlm.nih.gov/rest/pug_view/data/compound/887/JSON?heading=LD50\n",
      "Request failed, retrying in 4.0s: 400 Client Error: PUGVIEW.BadRequest for url: https://pubchem.ncbi.nlm.nih.gov/rest/pug_view/data/compound/887/JSON?heading=LD50\n"
     ]
    },
    {
     "name": "stdout",
     "output_type": "stream",
     "text": [
      "  ✗ LD50: PubChemView error: Request failed after 4 attempts: 400 Client Error: PUGVIEW.BadRequest for url: https://pubchem.ncbi.nlm.nih.gov/rest/pug_view/data/compound/887/JSON?heading=LD50\n",
      "\n",
      "\n",
      "Database created with 5 chemicals\n",
      "Properties tracked: Flash Point, Auto-Ignition Temperature, Vapor Pressure, LC50, LD50\n"
     ]
    }
   ],
   "source": [
    "# Create a chemical safety database\n",
    "safety_relevant_properties = [\n",
    "    \"Flash Point\",\n",
    "    \"Auto-Ignition Temperature\", \n",
    "    \"Vapor Pressure\",\n",
    "    \"LC50\",\n",
    "    \"LD50\"\n",
    "]\n",
    "\n",
    "# Industrial solvents for safety assessment\n",
    "industrial_chemicals = {\n",
    "    \"Acetone\": 180,\n",
    "    \"Ethanol\": 702,\n",
    "    \"Benzene\": 241,\n",
    "    \"Toluene\": 1140,\n",
    "    \"Methanol\": 887\n",
    "}\n",
    "\n",
    "print(\"Chemical Safety Database\")\n",
    "print(\"=\" * 60)\n",
    "\n",
    "safety_database = []\n",
    "\n",
    "for chemical_name, cid in industrial_chemicals.items():\n",
    "    chemical_data = {\n",
    "        'name': chemical_name,\n",
    "        'cid': cid,\n",
    "        'properties': {}\n",
    "    }\n",
    "    \n",
    "    print(f\"\\nProcessing {chemical_name} (CID: {cid})...\")\n",
    "    \n",
    "    for prop in safety_relevant_properties:\n",
    "        result = get_property_safely(cid, prop, max_values=1)\n",
    "        \n",
    "        if result['success'] and result['data']:\n",
    "            value_info = result['data'][0]\n",
    "            chemical_data['properties'][prop] = {\n",
    "                'value': value_info.value,\n",
    "                'unit': value_info.unit,\n",
    "                'reference': value_info.reference\n",
    "            }\n",
    "            print(f\"  ✓ {prop}: {value_info.value} {value_info.unit}\")\n",
    "        else:\n",
    "            chemical_data['properties'][prop] = None\n",
    "            print(f\"  ✗ {prop}: {result['error']}\")\n",
    "    \n",
    "    safety_database.append(chemical_data)\n",
    "\n",
    "print(f\"\\n\\nDatabase created with {len(safety_database)} chemicals\")\n",
    "print(f\"Properties tracked: {', '.join(safety_relevant_properties)}\")"
   ]
  },
  {
   "cell_type": "code",
   "execution_count": 21,
   "id": "a1c6b390",
   "metadata": {},
   "outputs": [
    {
     "name": "stdout",
     "output_type": "stream",
     "text": [
      "Database Summary:\n",
      "----------------------------------------\n",
      "Total chemicals: 5\n",
      "Total columns: 17\n",
      "Flash Point: 5/5 compounds have data\n",
      "Auto-Ignition Temperature: 0/5 compounds have data\n",
      "Vapor Pressure: 5/5 compounds have data\n",
      "LC50: 0/5 compounds have data\n",
      "LD50: 0/5 compounds have data\n",
      "\n",
      "First few rows of the database:\n",
      "   Chemical  ...                               Vapor Pressure_Value\n",
      "0   Acetone  ...  180 mmHg at 68 °F ; 270 mmHg at 86 °F (NTP, 1992)\n",
      "1   Ethanol  ...    40 mmHg at 66 °F ; 50 mmHg at 77 °F (NTP, 1992)\n",
      "2   Benzene  ...    60 mmHg at 59 °F ; 76 mmHg at 68 °F (NTP, 1992)\n",
      "3   Toluene  ...  10 mmHg at 43.5 °F ; 20 mmHg at 65.1 °F; 40 mm...\n",
      "4  Methanol  ...  100 mmHg at 70.2 °F ; 237.87 mmHg at 100 °F (N...\n",
      "\n",
      "[5 rows x 5 columns]\n"
     ]
    }
   ],
   "source": [
    "# Export the database to CSV for further analysis\n",
    "import json\n",
    "\n",
    "# Create a flattened version for CSV export\n",
    "export_data = []\n",
    "for chemical in safety_database:\n",
    "    row = {\n",
    "        'Chemical': chemical['name'],\n",
    "        'CID': chemical['cid']\n",
    "    }\n",
    "    \n",
    "    # Add property columns\n",
    "    for prop in safety_relevant_properties:\n",
    "        if chemical['properties'][prop]:\n",
    "            row[f'{prop}_Value'] = chemical['properties'][prop]['value']\n",
    "            row[f'{prop}_Unit'] = chemical['properties'][prop]['unit']\n",
    "            row[f'{prop}_Reference'] = chemical['properties'][prop]['reference']\n",
    "        else:\n",
    "            row[f'{prop}_Value'] = None\n",
    "            row[f'{prop}_Unit'] = None\n",
    "            row[f'{prop}_Reference'] = None\n",
    "    \n",
    "    export_data.append(row)\n",
    "\n",
    "# Convert to DataFrame and display summary\n",
    "export_df = pd.DataFrame(export_data)\n",
    "print(\"Database Summary:\")\n",
    "print(\"-\" * 40)\n",
    "print(f\"Total chemicals: {len(export_df)}\")\n",
    "print(f\"Total columns: {len(export_df.columns)}\")\n",
    "\n",
    "# Show data availability summary\n",
    "for prop in safety_relevant_properties:\n",
    "    available = export_df[f'{prop}_Value'].notna().sum()\n",
    "    print(f\"{prop}: {available}/{len(export_df)} compounds have data\")\n",
    "\n",
    "# Display the first few rows\n",
    "print(f\"\\nFirst few rows of the database:\")\n",
    "print(export_df[['Chemical', 'CID'] + [f'{p}_Value' for p in safety_relevant_properties[:3]]].head())"
   ]
  },
  {
   "cell_type": "markdown",
   "id": "26fc3344",
   "metadata": {},
   "source": [
    "## Conclusion and Next Steps\n",
    "\n",
    "### What You've Learned\n",
    "\n",
    "In this tutorial, you've learned how to:\n",
    "\n",
    "1. **Initialize and use PubChemView** to access experimental chemical data\n",
    "2. **Retrieve specific properties** like melting points, boiling points, and safety data\n",
    "3. **Use convenience functions** for streamlined data access\n",
    "4. **Handle errors gracefully** when data is missing or unavailable\n",
    "5. **Build practical databases** for chemical safety and risk assessment\n",
    "6. **Analyze and visualize** chemical property data\n",
    "7. **Export data** for further analysis in other tools\n",
    "\n",
    "### Key Features of PubChemView\n",
    "\n",
    "- **Comprehensive Coverage**: Access to thousands of experimental properties\n",
    "- **Robust Error Handling**: Graceful handling of missing data and API errors  \n",
    "- **Multiple Data Formats**: Support for various property types and units\n",
    "- **Batch Processing**: Efficient handling of multiple compounds\n",
    "- **Data Quality**: Access to source information and multiple measurements\n",
    "\n",
    "### Additional Resources\n",
    "\n",
    "- **PubChem Documentation**: [https://pubchem.ncbi.nlm.nih.gov/docs/](https://pubchem.ncbi.nlm.nih.gov/docs/)\n",
    "- **Available Properties**: [https://pubchem.ncbi.nlm.nih.gov/classification/#hid=72](https://pubchem.ncbi.nlm.nih.gov/classification/#hid=72)\n",
    "- **API Reference**: Check the package documentation for complete method descriptions\n",
    "\n",
    "### Best Practices\n",
    "\n",
    "1. **Always handle errors** - Not all compounds have all properties\n",
    "2. **Validate data quality** - Check sources and multiple measurements\n",
    "3. **Respect rate limits** - The API has usage limitations\n",
    "4. **Cache results** - Store frequently used data to avoid repeated requests\n",
    "5. **Verify units** - Different sources may use different unit systems\n",
    "\n",
    "Happy chemical data analysis! 🧪📊"
   ]
  }
 ],
 "metadata": {
  "kernelspec": {
   "display_name": "physchem",
   "language": "python",
   "name": "python3"
  },
  "language_info": {
   "codemirror_mode": {
    "name": "ipython",
    "version": 3
   },
   "file_extension": ".py",
   "mimetype": "text/x-python",
   "name": "python",
   "nbconvert_exporter": "python",
   "pygments_lexer": "ipython3",
   "version": "3.11.9"
  }
 },
 "nbformat": 4,
 "nbformat_minor": 5
}
